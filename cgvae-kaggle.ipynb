{
 "cells": [
  {
   "cell_type": "markdown",
   "id": "99fb758b",
   "metadata": {
    "papermill": {
     "duration": 0.003776,
     "end_time": "2025-10-11T15:41:54.746017",
     "exception": false,
     "start_time": "2025-10-11T15:41:54.742241",
     "status": "completed"
    },
    "tags": []
   },
   "source": [
    "### Multi-Conditional Graph Variational Autoencoder"
   ]
  },
  {
   "cell_type": "code",
   "execution_count": 1,
   "id": "08fdc66f",
   "metadata": {
    "execution": {
     "iopub.execute_input": "2025-10-11T15:41:54.753220Z",
     "iopub.status.busy": "2025-10-11T15:41:54.753005Z",
     "iopub.status.idle": "2025-10-11T15:41:58.493035Z",
     "shell.execute_reply": "2025-10-11T15:41:58.492254Z"
    },
    "papermill": {
     "duration": 3.745715,
     "end_time": "2025-10-11T15:41:58.494859",
     "exception": false,
     "start_time": "2025-10-11T15:41:54.749144",
     "status": "completed"
    },
    "tags": []
   },
   "outputs": [
    {
     "name": "stdout",
     "output_type": "stream",
     "text": [
      "Cloning into 'MCGVAE'...\r\n",
      "remote: Enumerating objects: 2300, done.\u001b[K\r\n",
      "remote: Counting objects: 100% (2300/2300), done.\u001b[K\r\n",
      "remote: Compressing objects: 100% (127/127), done.\u001b[K\r\n",
      "remote: Total 2300 (delta 2205), reused 2256 (delta 2169), pack-reused 0 (from 0)\u001b[K\r\n",
      "Receiving objects: 100% (2300/2300), 14.08 MiB | 11.43 MiB/s, done.\r\n",
      "Resolving deltas: 100% (2205/2205), done.\r\n"
     ]
    }
   ],
   "source": [
    "!git clone https://github.com/Raiden-Makoto/MCGVAE.git"
   ]
  },
  {
   "cell_type": "code",
   "execution_count": 2,
   "id": "9f055402",
   "metadata": {
    "execution": {
     "iopub.execute_input": "2025-10-11T15:41:58.504432Z",
     "iopub.status.busy": "2025-10-11T15:41:58.504190Z",
     "iopub.status.idle": "2025-10-11T15:41:58.510848Z",
     "shell.execute_reply": "2025-10-11T15:41:58.510115Z"
    },
    "papermill": {
     "duration": 0.012854,
     "end_time": "2025-10-11T15:41:58.512226",
     "exception": false,
     "start_time": "2025-10-11T15:41:58.499372",
     "status": "completed"
    },
    "tags": []
   },
   "outputs": [
    {
     "name": "stdout",
     "output_type": "stream",
     "text": [
      "/kaggle/working/MCGVAE\n"
     ]
    }
   ],
   "source": [
    "%cd MCGVAE"
   ]
  },
  {
   "cell_type": "code",
   "execution_count": 3,
   "id": "c1f78a4e",
   "metadata": {
    "collapsed": true,
    "execution": {
     "iopub.execute_input": "2025-10-11T15:41:58.520784Z",
     "iopub.status.busy": "2025-10-11T15:41:58.520587Z",
     "iopub.status.idle": "2025-10-11T15:42:15.384467Z",
     "shell.execute_reply": "2025-10-11T15:42:15.383330Z"
    },
    "jupyter": {
     "outputs_hidden": true
    },
    "papermill": {
     "duration": 16.870139,
     "end_time": "2025-10-11T15:42:15.386204",
     "exception": false,
     "start_time": "2025-10-11T15:41:58.516065",
     "status": "completed"
    },
    "tags": []
   },
   "outputs": [
    {
     "name": "stdout",
     "output_type": "stream",
     "text": [
      "Collecting absl-py==2.3.1 (from -r requirements.txt (line 1))\r\n",
      "  Downloading absl_py-2.3.1-py3-none-any.whl.metadata (3.3 kB)\r\n",
      "Collecting accelerate==0.33.0 (from -r requirements.txt (line 2))\r\n",
      "  Downloading accelerate-0.33.0-py3-none-any.whl.metadata (18 kB)\r\n",
      "Collecting aiobotocore==2.24.3 (from -r requirements.txt (line 3))\r\n",
      "  Downloading aiobotocore-2.24.3-py3-none-any.whl.metadata (25 kB)\r\n",
      "Requirement already satisfied: aiohappyeyeballs==2.6.1 in /usr/local/lib/python3.11/dist-packages (from -r requirements.txt (line 4)) (2.6.1)\r\n",
      "Requirement already satisfied: aiohttp==3.12.15 in /usr/local/lib/python3.11/dist-packages (from -r requirements.txt (line 5)) (3.12.15)\r\n",
      "Collecting aioitertools==0.12.0 (from -r requirements.txt (line 6))\r\n",
      "  Downloading aioitertools-0.12.0-py3-none-any.whl.metadata (3.8 kB)\r\n",
      "Requirement already satisfied: aiosignal==1.4.0 in /usr/local/lib/python3.11/dist-packages (from -r requirements.txt (line 7)) (1.4.0)\r\n",
      "Collecting anndata==0.12.2 (from -r requirements.txt (line 8))\r\n",
      "  Downloading anndata-0.12.2-py3-none-any.whl.metadata (9.6 kB)\r\n",
      "Requirement already satisfied: annotated-types==0.7.0 in /usr/local/lib/python3.11/dist-packages (from -r requirements.txt (line 9)) (0.7.0)\r\n",
      "Collecting appdirs==1.4.4 (from -r requirements.txt (line 10))\r\n",
      "  Downloading appdirs-1.4.4-py2.py3-none-any.whl.metadata (9.0 kB)\r\n",
      "Collecting appnope==0.1.4 (from -r requirements.txt (line 11))\r\n",
      "  Downloading appnope-0.1.4-py2.py3-none-any.whl.metadata (908 bytes)\r\n",
      "Requirement already satisfied: argon2-cffi==25.1.0 in /usr/local/lib/python3.11/dist-packages (from -r requirements.txt (line 12)) (25.1.0)\r\n",
      "Collecting argon2-cffi-bindings==25.1.0 (from -r requirements.txt (line 13))\r\n",
      "  Downloading argon2_cffi_bindings-25.1.0-cp39-abi3-manylinux_2_26_x86_64.manylinux_2_28_x86_64.whl.metadata (7.4 kB)\r\n",
      "Collecting array-api-compat==1.12.0 (from -r requirements.txt (line 14))\r\n",
      "  Downloading array_api_compat-1.12.0-py3-none-any.whl.metadata (2.5 kB)\r\n",
      "Requirement already satisfied: asttokens==3.0.0 in /usr/local/lib/python3.11/dist-packages (from -r requirements.txt (line 15)) (3.0.0)\r\n",
      "Requirement already satisfied: astunparse==1.6.3 in /usr/local/lib/python3.11/dist-packages (from -r requirements.txt (line 16)) (1.6.3)\r\n",
      "Requirement already satisfied: attrs==25.3.0 in /usr/local/lib/python3.11/dist-packages (from -r requirements.txt (line 17)) (25.3.0)\r\n",
      "Requirement already satisfied: autograd==1.8.0 in /usr/local/lib/python3.11/dist-packages (from -r requirements.txt (line 18)) (1.8.0)\r\n",
      "Collecting autoray==0.7.2 (from -r requirements.txt (line 19))\r\n",
      "  Downloading autoray-0.7.2-py3-none-any.whl.metadata (5.8 kB)\r\n",
      "Collecting beautifulsoup4==4.14.2 (from -r requirements.txt (line 20))\r\n",
      "  Downloading beautifulsoup4-4.14.2-py3-none-any.whl.metadata (3.8 kB)\r\n",
      "Collecting biopython==1.85 (from -r requirements.txt (line 21))\r\n",
      "  Downloading biopython-1.85-cp311-cp311-manylinux_2_17_x86_64.manylinux2014_x86_64.whl.metadata (13 kB)\r\n",
      "Collecting boto3==1.40.45 (from -r requirements.txt (line 22))\r\n",
      "  Downloading boto3-1.40.45-py3-none-any.whl.metadata (6.7 kB)\r\n",
      "Collecting botocore==1.40.45 (from -r requirements.txt (line 23))\r\n",
      "  Downloading botocore-1.40.45-py3-none-any.whl.metadata (5.7 kB)\r\n",
      "Collecting cachetools==6.2.0 (from -r requirements.txt (line 24))\r\n",
      "  Downloading cachetools-6.2.0-py3-none-any.whl.metadata (5.4 kB)\r\n",
      "Collecting cellxgene-census==1.15.0 (from -r requirements.txt (line 25))\r\n",
      "  Downloading cellxgene_census-1.15.0-py3-none-any.whl.metadata (5.2 kB)\r\n",
      "Collecting certifi==2025.10.5 (from -r requirements.txt (line 26))\r\n",
      "  Downloading certifi-2025.10.5-py3-none-any.whl.metadata (2.5 kB)\r\n",
      "Requirement already satisfied: cffi==2.0.0 in /usr/local/lib/python3.11/dist-packages (from -r requirements.txt (line 27)) (2.0.0)\r\n",
      "Requirement already satisfied: charset-normalizer==3.4.3 in /usr/local/lib/python3.11/dist-packages (from -r requirements.txt (line 28)) (3.4.3)\r\n",
      "Requirement already satisfied: comm==0.2.3 in /usr/local/lib/python3.11/dist-packages (from -r requirements.txt (line 29)) (0.2.3)\r\n",
      "Collecting contourpy==1.3.3 (from -r requirements.txt (line 30))\r\n",
      "  Downloading contourpy-1.3.3-cp311-cp311-manylinux_2_27_x86_64.manylinux_2_28_x86_64.whl.metadata (5.5 kB)\r\n",
      "Collecting crc32c==2.7.1 (from -r requirements.txt (line 31))\r\n",
      "  Downloading crc32c-2.7.1-cp311-cp311-manylinux_2_5_x86_64.manylinux1_x86_64.manylinux_2_17_x86_64.manylinux2014_x86_64.whl.metadata (7.3 kB)\r\n",
      "Requirement already satisfied: cycler==0.12.1 in /usr/local/lib/python3.11/dist-packages (from -r requirements.txt (line 32)) (0.12.1)\r\n",
      "Collecting dataclasses==0.6 (from -r requirements.txt (line 33))\r\n",
      "  Downloading dataclasses-0.6-py3-none-any.whl.metadata (3.0 kB)\r\n",
      "Collecting datasets==2.2.1 (from -r requirements.txt (line 34))\r\n",
      "  Downloading datasets-2.2.1-py3-none-any.whl.metadata (20 kB)\r\n",
      "Collecting debugpy==1.8.17 (from -r requirements.txt (line 35))\r\n",
      "  Downloading debugpy-1.8.17-cp311-cp311-manylinux_2_34_x86_64.whl.metadata (1.4 kB)\r\n",
      "Collecting decorator==5.2.1 (from -r requirements.txt (line 36))\r\n",
      "  Downloading decorator-5.2.1-py3-none-any.whl.metadata (3.9 kB)\r\n",
      "Collecting diastatic-malt==2.15.2 (from -r requirements.txt (line 37))\r\n",
      "  Downloading diastatic_malt-2.15.2-py3-none-any.whl.metadata (2.6 kB)\r\n",
      "Requirement already satisfied: dill==0.4.0 in /usr/local/lib/python3.11/dist-packages (from -r requirements.txt (line 38)) (0.4.0)\r\n",
      "Collecting donfig==0.8.1.post1 (from -r requirements.txt (line 39))\r\n",
      "  Downloading donfig-0.8.1.post1-py3-none-any.whl.metadata (5.0 kB)\r\n",
      "Requirement already satisfied: et_xmlfile==2.0.0 in /usr/local/lib/python3.11/dist-packages (from -r requirements.txt (line 40)) (2.0.0)\r\n",
      "Collecting evaluate==0.4.2 (from -r requirements.txt (line 41))\r\n",
      "  Downloading evaluate-0.4.2-py3-none-any.whl.metadata (9.3 kB)\r\n",
      "Collecting executing==2.2.1 (from -r requirements.txt (line 42))\r\n",
      "  Downloading executing-2.2.1-py2.py3-none-any.whl.metadata (8.9 kB)\r\n",
      "Collecting fcd==1.2.2 (from -r requirements.txt (line 43))\r\n",
      "  Downloading fcd-1.2.2-py3-none-any.whl.metadata (11 kB)\r\n",
      "Requirement already satisfied: filelock==3.19.1 in /usr/local/lib/python3.11/dist-packages (from -r requirements.txt (line 44)) (3.19.1)\r\n",
      "Collecting fonttools==4.60.1 (from -r requirements.txt (line 45))\r\n",
      "  Downloading fonttools-4.60.1-cp311-cp311-manylinux2014_x86_64.manylinux_2_17_x86_64.whl.metadata (112 kB)\r\n",
      "\u001b[2K     \u001b[90m━━━━━━━━━━━━━━━━━━━━━━━━━━━━━━━━━━━━━━━\u001b[0m \u001b[32m112.3/112.3 kB\u001b[0m \u001b[31m3.5 MB/s\u001b[0m eta \u001b[36m0:00:00\u001b[0m\r\n",
      "\u001b[?25hRequirement already satisfied: frozenlist==1.7.0 in /usr/local/lib/python3.11/dist-packages (from -r requirements.txt (line 46)) (1.7.0)\r\n",
      "Requirement already satisfied: fsspec==2025.9.0 in /usr/local/lib/python3.11/dist-packages (from -r requirements.txt (line 47)) (2025.9.0)\r\n",
      "Requirement already satisfied: fuzzywuzzy==0.18.0 in /usr/local/lib/python3.11/dist-packages (from -r requirements.txt (line 48)) (0.18.0)\r\n",
      "Requirement already satisfied: gast==0.6.0 in /usr/local/lib/python3.11/dist-packages (from -r requirements.txt (line 49)) (0.6.0)\r\n",
      "Collecting gget==0.29.3 (from -r requirements.txt (line 50))\r\n",
      "  Downloading gget-0.29.3-py3-none-any.whl.metadata (7.9 kB)\r\n",
      "Requirement already satisfied: grpcio==1.75.1 in /usr/local/lib/python3.11/dist-packages (from -r requirements.txt (line 51)) (1.75.1)\r\n",
      "Collecting guacamol==0.5.5 (from -r requirements.txt (line 52))\r\n",
      "  Downloading guacamol-0.5.5-py3-none-any.whl.metadata (4.9 kB)\r\n",
      "Requirement already satisfied: h5py==3.14.0 in /usr/local/lib/python3.11/dist-packages (from -r requirements.txt (line 53)) (3.14.0)\r\n",
      "Requirement already satisfied: hf-xet==1.1.10 in /usr/local/lib/python3.11/dist-packages (from -r requirements.txt (line 54)) (1.1.10)\r\n",
      "Collecting huggingface-hub==0.35.3 (from -r requirements.txt (line 55))\r\n",
      "  Downloading huggingface_hub-0.35.3-py3-none-any.whl.metadata (14 kB)\r\n",
      "Requirement already satisfied: idna==3.10 in /usr/local/lib/python3.11/dist-packages (from -r requirements.txt (line 56)) (3.10)\r\n",
      "Collecting ipykernel==6.30.1 (from -r requirements.txt (line 57))\r\n",
      "  Downloading ipykernel-6.30.1-py3-none-any.whl.metadata (6.2 kB)\r\n",
      "Collecting ipython==9.6.0 (from -r requirements.txt (line 58))\r\n",
      "  Downloading ipython-9.6.0-py3-none-any.whl.metadata (4.4 kB)\r\n",
      "Requirement already satisfied: ipython_pygments_lexers==1.1.1 in /usr/local/lib/python3.11/dist-packages (from -r requirements.txt (line 59)) (1.1.1)\r\n",
      "Collecting ipywidgets==8.1.7 (from -r requirements.txt (line 60))\r\n",
      "  Downloading ipywidgets-8.1.7-py3-none-any.whl.metadata (2.4 kB)\r\n",
      "Requirement already satisfied: jedi==0.19.2 in /usr/local/lib/python3.11/dist-packages (from -r requirements.txt (line 61)) (0.19.2)\r\n",
      "Requirement already satisfied: Jinja2==3.1.6 in /usr/local/lib/python3.11/dist-packages (from -r requirements.txt (line 62)) (3.1.6)\r\n",
      "Requirement already satisfied: jmespath==1.0.1 in /usr/local/lib/python3.11/dist-packages (from -r requirements.txt (line 63)) (1.0.1)\r\n",
      "Requirement already satisfied: joblib==1.5.2 in /usr/local/lib/python3.11/dist-packages (from -r requirements.txt (line 64)) (1.5.2)\r\n",
      "Requirement already satisfied: jupyter_client==8.6.3 in /usr/local/lib/python3.11/dist-packages (from -r requirements.txt (line 65)) (8.6.3)\r\n",
      "Requirement already satisfied: jupyter_core==5.8.1 in /usr/local/lib/python3.11/dist-packages (from -r requirements.txt (line 66)) (5.8.1)\r\n",
      "Requirement already satisfied: jupyterlab_widgets==3.0.15 in /usr/local/lib/python3.11/dist-packages (from -r requirements.txt (line 67)) (3.0.15)\r\n",
      "Collecting keybert==0.9.0 (from -r requirements.txt (line 68))\r\n",
      "  Downloading keybert-0.9.0-py3-none-any.whl.metadata (15 kB)\r\n",
      "Collecting kiwisolver==1.4.9 (from -r requirements.txt (line 69))\r\n",
      "  Downloading kiwisolver-1.4.9-cp311-cp311-manylinux2014_x86_64.manylinux_2_17_x86_64.whl.metadata (6.3 kB)\r\n",
      "Collecting legacy-api-wrap==1.4.1 (from -r requirements.txt (line 70))\r\n",
      "  Downloading legacy_api_wrap-1.4.1-py3-none-any.whl.metadata (2.1 kB)\r\n",
      "Requirement already satisfied: lightning-utilities==0.15.2 in /usr/local/lib/python3.11/dist-packages (from -r requirements.txt (line 71)) (0.15.2)\r\n",
      "Collecting llvmlite==0.45.1 (from -r requirements.txt (line 72))\r\n",
      "  Downloading llvmlite-0.45.1-cp311-cp311-manylinux2014_x86_64.manylinux_2_17_x86_64.whl.metadata (4.9 kB)\r\n",
      "Collecting lmdb==1.7.3 (from -r requirements.txt (line 73))\r\n",
      "  Downloading lmdb-1.7.3-cp311-cp311-manylinux_2_17_x86_64.manylinux2014_x86_64.whl.metadata (1.3 kB)\r\n",
      "Collecting lxml==6.0.2 (from -r requirements.txt (line 74))\r\n",
      "  Downloading lxml-6.0.2-cp311-cp311-manylinux_2_26_x86_64.manylinux_2_28_x86_64.whl.metadata (3.6 kB)\r\n",
      "Collecting Markdown==3.9 (from -r requirements.txt (line 75))\r\n",
      "  Downloading markdown-3.9-py3-none-any.whl.metadata (5.1 kB)\r\n",
      "Requirement already satisfied: markdown-it-py==4.0.0 in /usr/local/lib/python3.11/dist-packages (from -r requirements.txt (line 76)) (4.0.0)\r\n",
      "Collecting MarkupSafe==3.0.3 (from -r requirements.txt (line 77))\r\n",
      "  Downloading markupsafe-3.0.3-cp311-cp311-manylinux2014_x86_64.manylinux_2_17_x86_64.manylinux_2_28_x86_64.whl.metadata (2.7 kB)\r\n",
      "Collecting matplotlib==3.10.6 (from -r requirements.txt (line 78))\r\n",
      "  Downloading matplotlib-3.10.6-cp311-cp311-manylinux2014_x86_64.manylinux_2_17_x86_64.whl.metadata (11 kB)\r\n",
      "Requirement already satisfied: matplotlib-inline==0.1.7 in /usr/local/lib/python3.11/dist-packages (from -r requirements.txt (line 79)) (0.1.7)\r\n",
      "Requirement already satisfied: mdurl==0.1.2 in /usr/local/lib/python3.11/dist-packages (from -r requirements.txt (line 80)) (0.1.2)\r\n",
      "Collecting minio==7.2.18 (from -r requirements.txt (line 81))\r\n",
      "  Downloading minio-7.2.18-py3-none-any.whl.metadata (6.5 kB)\r\n",
      "Collecting modlamp==4.3.2 (from -r requirements.txt (line 82))\r\n",
      "  Downloading modlamp-4.3.2-py3-none-any.whl.metadata (13 kB)\r\n",
      "Requirement already satisfied: mpmath==1.3.0 in /usr/local/lib/python3.11/dist-packages (from -r requirements.txt (line 83)) (1.3.0)\r\n",
      "Requirement already satisfied: multidict==6.6.4 in /usr/local/lib/python3.11/dist-packages (from -r requirements.txt (line 84)) (6.6.4)\r\n",
      "Requirement already satisfied: multiprocess==0.70.16 in /usr/local/lib/python3.11/dist-packages (from -r requirements.txt (line 85)) (0.70.16)\r\n",
      "Collecting mysql-connector-python==9.4.0 (from -r requirements.txt (line 86))\r\n",
      "  Downloading mysql_connector_python-9.4.0-cp311-cp311-manylinux_2_28_x86_64.whl.metadata (7.3 kB)\r\n",
      "Requirement already satisfied: natsort==8.4.0 in /usr/local/lib/python3.11/dist-packages (from -r requirements.txt (line 87)) (8.4.0)\r\n",
      "Requirement already satisfied: nest-asyncio==1.6.0 in /usr/local/lib/python3.11/dist-packages (from -r requirements.txt (line 88)) (1.6.0)\r\n",
      "Requirement already satisfied: networkx==3.5 in /usr/local/lib/python3.11/dist-packages (from -r requirements.txt (line 89)) (3.5)\r\n",
      "Collecting nose==1.3.7 (from -r requirements.txt (line 90))\r\n",
      "  Downloading nose-1.3.7-py3-none-any.whl.metadata (1.7 kB)\r\n",
      "Collecting numba==0.62.1 (from -r requirements.txt (line 91))\r\n",
      "  Downloading numba-0.62.1-cp311-cp311-manylinux2014_x86_64.manylinux_2_17_x86_64.whl.metadata (2.8 kB)\r\n",
      "Collecting numcodecs==0.16.3 (from -r requirements.txt (line 92))\r\n",
      "  Downloading numcodecs-0.16.3-cp311-cp311-manylinux_2_17_x86_64.manylinux2014_x86_64.whl.metadata (3.3 kB)\r\n",
      "Requirement already satisfied: numpy==1.26.4 in /usr/local/lib/python3.11/dist-packages (from -r requirements.txt (line 93)) (1.26.4)\r\n",
      "Requirement already satisfied: openpyxl==3.1.5 in /usr/local/lib/python3.11/dist-packages (from -r requirements.txt (line 94)) (3.1.5)\r\n",
      "Requirement already satisfied: packaging==25.0 in /usr/local/lib/python3.11/dist-packages (from -r requirements.txt (line 95)) (25.0)\r\n",
      "Collecting pandas==2.3.3 (from -r requirements.txt (line 96))\r\n",
      "  Downloading pandas-2.3.3-cp311-cp311-manylinux_2_24_x86_64.manylinux_2_28_x86_64.whl.metadata (91 kB)\r\n",
      "\u001b[2K     \u001b[90m━━━━━━━━━━━━━━━━━━━━━━━━━━━━━━━━━━━━━━━━\u001b[0m \u001b[32m91.2/91.2 kB\u001b[0m \u001b[31m5.4 MB/s\u001b[0m eta \u001b[36m0:00:00\u001b[0m\r\n",
      "\u001b[?25hCollecting parso==0.8.5 (from -r requirements.txt (line 97))\r\n",
      "  Downloading parso-0.8.5-py2.py3-none-any.whl.metadata (8.3 kB)\r\n",
      "Requirement already satisfied: patsy==1.0.1 in /usr/local/lib/python3.11/dist-packages (from -r requirements.txt (line 98)) (1.0.1)\r\n",
      "Collecting pennylane==0.42.3 (from -r requirements.txt (line 99))\r\n",
      "  Downloading pennylane-0.42.3-py3-none-any.whl.metadata (11 kB)\r\n",
      "Collecting pennylane_lightning==0.42.0 (from -r requirements.txt (line 100))\r\n",
      "  Downloading pennylane_lightning-0.42.0-cp311-cp311-manylinux_2_28_x86_64.whl.metadata (11 kB)\r\n",
      "Requirement already satisfied: pexpect==4.9.0 in /usr/local/lib/python3.11/dist-packages (from -r requirements.txt (line 101)) (4.9.0)\r\n",
      "Requirement already satisfied: pillow==11.3.0 in /usr/local/lib/python3.11/dist-packages (from -r requirements.txt (line 102)) (11.3.0)\r\n",
      "Requirement already satisfied: platformdirs==4.4.0 in /usr/local/lib/python3.11/dist-packages (from -r requirements.txt (line 103)) (4.4.0)\r\n",
      "Collecting prompt_toolkit==3.0.52 (from -r requirements.txt (line 104))\r\n",
      "  Downloading prompt_toolkit-3.0.52-py3-none-any.whl.metadata (6.4 kB)\r\n",
      "Collecting propcache==0.4.0 (from -r requirements.txt (line 105))\r\n",
      "  Downloading propcache-0.4.0-cp311-cp311-manylinux2014_x86_64.manylinux_2_17_x86_64.manylinux_2_28_x86_64.whl.metadata (13 kB)\r\n",
      "Collecting protobuf==6.32.1 (from -r requirements.txt (line 106))\r\n",
      "  Downloading protobuf-6.32.1-cp39-abi3-manylinux2014_x86_64.whl.metadata (593 bytes)\r\n",
      "Requirement already satisfied: psutil==7.1.0 in /usr/local/lib/python3.11/dist-packages (from -r requirements.txt (line 107)) (7.1.0)\r\n",
      "Requirement already satisfied: ptyprocess==0.7.0 in /usr/local/lib/python3.11/dist-packages (from -r requirements.txt (line 108)) (0.7.0)\r\n",
      "Collecting pure_eval==0.2.3 (from -r requirements.txt (line 109))\r\n",
      "  Downloading pure_eval-0.2.3-py3-none-any.whl.metadata (6.3 kB)\r\n",
      "Requirement already satisfied: pyaml==25.7.0 in /usr/local/lib/python3.11/dist-packages (from -r requirements.txt (line 110)) (25.7.0)\r\n",
      "Collecting pyarrow==12.0.1 (from -r requirements.txt (line 111))\r\n",
      "  Downloading pyarrow-12.0.1-cp311-cp311-manylinux_2_17_x86_64.manylinux2014_x86_64.whl.metadata (3.0 kB)\r\n",
      "Collecting pyarrow-hotfix==0.7 (from -r requirements.txt (line 112))\r\n",
      "  Downloading pyarrow_hotfix-0.7-py3-none-any.whl.metadata (3.6 kB)\r\n",
      "Requirement already satisfied: pycparser==2.23 in /usr/local/lib/python3.11/dist-packages (from -r requirements.txt (line 113)) (2.23)\r\n",
      "Requirement already satisfied: pycryptodome==3.23.0 in /usr/local/lib/python3.11/dist-packages (from -r requirements.txt (line 114)) (3.23.0)\r\n",
      "Collecting pydantic==1.10.24 (from -r requirements.txt (line 115))\r\n",
      "  Downloading pydantic-1.10.24-cp311-cp311-manylinux_2_17_x86_64.manylinux2014_x86_64.whl.metadata (154 kB)\r\n",
      "\u001b[2K     \u001b[90m━━━━━━━━━━━━━━━━━━━━━━━━━━━━━━━━━━━━━━━\u001b[0m \u001b[32m154.8/154.8 kB\u001b[0m \u001b[31m9.0 MB/s\u001b[0m eta \u001b[36m0:00:00\u001b[0m\r\n",
      "\u001b[?25hRequirement already satisfied: pydantic-settings==2.11.0 in /usr/local/lib/python3.11/dist-packages (from -r requirements.txt (line 116)) (2.11.0)\r\n",
      "Collecting pydantic_core==2.41.1 (from -r requirements.txt (line 117))\r\n",
      "  Downloading pydantic_core-2.41.1-cp311-cp311-manylinux_2_17_x86_64.manylinux2014_x86_64.whl.metadata (7.3 kB)\r\n",
      "\u001b[31mERROR: Ignored the following versions that require a different python version: 0.13.0 Requires-Python <3.11,>=3.7; 0.36.0 Requires-Python >=3.6,<3.10; 0.37.0 Requires-Python >=3.7,<3.10; 0.38.0 Requires-Python >=3.7,<3.11; 0.38.1 Requires-Python >=3.7,<3.11; 0.52.0 Requires-Python >=3.6,<3.9; 0.52.0rc3 Requires-Python >=3.6,<3.9; 0.53.0 Requires-Python >=3.6,<3.10; 0.53.0rc1.post1 Requires-Python >=3.6,<3.10; 0.53.0rc2 Requires-Python >=3.6,<3.10; 0.53.0rc3 Requires-Python >=3.6,<3.10; 0.53.1 Requires-Python >=3.6,<3.10; 0.54.0 Requires-Python >=3.7,<3.10; 0.54.0rc2 Requires-Python >=3.7,<3.10; 0.54.0rc3 Requires-Python >=3.7,<3.10; 0.54.1 Requires-Python >=3.7,<3.10; 0.55.0 Requires-Python >=3.7,<3.11; 0.55.0rc1 Requires-Python >=3.7,<3.11; 0.55.1 Requires-Python >=3.7,<3.11; 0.55.2 Requires-Python >=3.7,<3.11; 0.7 Requires-Python >=3.6, <3.7; 0.8 Requires-Python >=3.6, <3.7; 1.0.0 Requires-Python <3.11,>=3.7; 1.0.0rc1 Requires-Python <3.11,>=3.7; 1.0.0rc2 Requires-Python <3.11,>=3.7; 1.0.0rc3 Requires-Python <3.11,>=3.7; 1.0.0rc4 Requires-Python <3.11,>=3.7; 1.0.1 Requires-Python <3.11,>=3.7; 1.0.2 Requires-Python <3.11,>=3.7; 1.1.0 Requires-Python <3.11,>=3.7; 1.2.0 Requires-Python <3.11,>=3.7\u001b[0m\u001b[31m\r\n",
      "\u001b[0m\u001b[31mERROR: Could not find a version that satisfies the requirement pyg-lib==0.4.0+pt28 (from versions: none)\u001b[0m\u001b[31m\r\n",
      "\u001b[0m\u001b[31mERROR: No matching distribution found for pyg-lib==0.4.0+pt28\u001b[0m\u001b[31m\r\n",
      "\u001b[0m"
     ]
    }
   ],
   "source": [
    "!pip install -r requirements.txt"
   ]
  },
  {
   "cell_type": "code",
   "execution_count": 4,
   "id": "91f81d24",
   "metadata": {
    "execution": {
     "iopub.execute_input": "2025-10-11T15:42:15.403766Z",
     "iopub.status.busy": "2025-10-11T15:42:15.403444Z",
     "iopub.status.idle": "2025-10-11T15:42:20.712808Z",
     "shell.execute_reply": "2025-10-11T15:42:20.711980Z"
    },
    "papermill": {
     "duration": 5.319695,
     "end_time": "2025-10-11T15:42:20.714682",
     "exception": false,
     "start_time": "2025-10-11T15:42:15.394987",
     "status": "completed"
    },
    "tags": []
   },
   "outputs": [
    {
     "name": "stdout",
     "output_type": "stream",
     "text": [
      "\u001b[2K   \u001b[90m━━━━━━━━━━━━━━━━━━━━━━━━━━━━━━━━━━━━━━━━\u001b[0m \u001b[32m36.2/36.2 MB\u001b[0m \u001b[31m52.9 MB/s\u001b[0m eta \u001b[36m0:00:00\u001b[0m\r\n",
      "\u001b[?25h"
     ]
    }
   ],
   "source": [
    "!pip -q install rdkit"
   ]
  },
  {
   "cell_type": "code",
   "execution_count": 5,
   "id": "5586fef6",
   "metadata": {
    "execution": {
     "iopub.execute_input": "2025-10-11T15:42:20.743169Z",
     "iopub.status.busy": "2025-10-11T15:42:20.742817Z",
     "iopub.status.idle": "2025-10-11T15:55:00.610333Z",
     "shell.execute_reply": "2025-10-11T15:55:00.609242Z"
    },
    "papermill": {
     "duration": 759.883586,
     "end_time": "2025-10-11T15:55:00.611800",
     "exception": false,
     "start_time": "2025-10-11T15:42:20.728214",
     "status": "completed"
    },
    "tags": []
   },
   "outputs": [
    {
     "name": "stdout",
     "output_type": "stream",
     "text": [
      "\u001b[2K     \u001b[90m━━━━━━━━━━━━━━━━━━━━━━━━━━━━━━━━━━━━━━━━\u001b[0m \u001b[32m63.1/63.1 kB\u001b[0m \u001b[31m2.0 MB/s\u001b[0m eta \u001b[36m0:00:00\u001b[0m\r\n",
      "\u001b[2K     \u001b[90m━━━━━━━━━━━━━━━━━━━━━━━━━━━━━━━━━━━━━━━\u001b[0m \u001b[32m108.0/108.0 kB\u001b[0m \u001b[31m3.4 MB/s\u001b[0m eta \u001b[36m0:00:00\u001b[0m\r\n",
      "\u001b[?25h  Preparing metadata (setup.py) ... \u001b[?25l\u001b[?25hdone\r\n",
      "\u001b[2K   \u001b[90m━━━━━━━━━━━━━━━━━━━━━━━━━━━━━━━━━━━━━━━━\u001b[0m \u001b[32m1.1/1.1 MB\u001b[0m \u001b[31m16.7 MB/s\u001b[0m eta \u001b[36m0:00:00\u001b[0m\r\n",
      "\u001b[?25h  Building wheel for torch-scatter (setup.py) ... \u001b[?25l\u001b[?25hdone\r\n"
     ]
    }
   ],
   "source": [
    "!pip -q install torch_geometric torch-scatter"
   ]
  },
  {
   "cell_type": "code",
   "execution_count": 6,
   "id": "f577ef82",
   "metadata": {
    "execution": {
     "iopub.execute_input": "2025-10-11T15:55:00.630151Z",
     "iopub.status.busy": "2025-10-11T15:55:00.629844Z",
     "iopub.status.idle": "2025-10-11T15:55:02.435754Z",
     "shell.execute_reply": "2025-10-11T15:55:02.435161Z"
    },
    "papermill": {
     "duration": 1.816675,
     "end_time": "2025-10-11T15:55:02.437277",
     "exception": false,
     "start_time": "2025-10-11T15:55:00.620602",
     "status": "completed"
    },
    "tags": []
   },
   "outputs": [],
   "source": [
    "import torch\n",
    "#device = torch.device('mps' if torch.backends.mps.is_available() else 'cpu')\n",
    "device = torch.device('cuda' if torch.cuda.is_available() else 'cpu')"
   ]
  },
  {
   "cell_type": "code",
   "execution_count": 7,
   "id": "749e00d0",
   "metadata": {
    "execution": {
     "iopub.execute_input": "2025-10-11T15:55:02.455639Z",
     "iopub.status.busy": "2025-10-11T15:55:02.455349Z",
     "iopub.status.idle": "2025-10-11T15:55:18.899231Z",
     "shell.execute_reply": "2025-10-11T15:55:18.898393Z"
    },
    "papermill": {
     "duration": 16.45438,
     "end_time": "2025-10-11T15:55:18.900746",
     "exception": false,
     "start_time": "2025-10-11T15:55:02.446366",
     "status": "completed"
    },
    "tags": []
   },
   "outputs": [],
   "source": [
    "from data.dataset import QM9GraphDataset\n",
    "from utils.datautils import create_data_loaders\n",
    "from mgcvae import MGCVAE\n",
    "from trainer import MGCVAETrainer\n",
    "from utils.trainutils import load_from_checkpoint"
   ]
  },
  {
   "cell_type": "code",
   "execution_count": 8,
   "id": "68cdbe2f",
   "metadata": {
    "execution": {
     "iopub.execute_input": "2025-10-11T15:55:18.918748Z",
     "iopub.status.busy": "2025-10-11T15:55:18.918335Z",
     "iopub.status.idle": "2025-10-11T15:55:25.092551Z",
     "shell.execute_reply": "2025-10-11T15:55:25.091701Z"
    },
    "papermill": {
     "duration": 6.184389,
     "end_time": "2025-10-11T15:55:25.093863",
     "exception": false,
     "start_time": "2025-10-11T15:55:18.909474",
     "status": "completed"
    },
    "tags": []
   },
   "outputs": [
    {
     "name": "stderr",
     "output_type": "stream",
     "text": [
      "Processing...\n"
     ]
    },
    {
     "name": "stdout",
     "output_type": "stream",
     "text": [
      "Processing 4898 molecules...\n",
      "Successfully processed 4898 molecules, failed: 0\n"
     ]
    },
    {
     "name": "stderr",
     "output_type": "stream",
     "text": [
      "Done!\n"
     ]
    }
   ],
   "source": [
    "dataset = QM9GraphDataset(csv_path='./data/qm9_bbbp2.csv')"
   ]
  },
  {
   "cell_type": "code",
   "execution_count": 9,
   "id": "38de71cb",
   "metadata": {
    "execution": {
     "iopub.execute_input": "2025-10-11T15:55:25.112979Z",
     "iopub.status.busy": "2025-10-11T15:55:25.112696Z",
     "iopub.status.idle": "2025-10-11T15:55:27.212702Z",
     "shell.execute_reply": "2025-10-11T15:55:27.211733Z"
    },
    "papermill": {
     "duration": 2.110871,
     "end_time": "2025-10-11T15:55:27.214008",
     "exception": false,
     "start_time": "2025-10-11T15:55:25.103137",
     "status": "completed"
    },
    "tags": []
   },
   "outputs": [
    {
     "name": "stdout",
     "output_type": "stream",
     "text": [
      "Dataset splits — Train: 3918, Val: 490, Test: 490\n"
     ]
    }
   ],
   "source": [
    "train_loader, val_loader, test_loader = create_data_loaders(dataset, batch_size=4)"
   ]
  },
  {
   "cell_type": "code",
   "execution_count": 10,
   "id": "62342a75",
   "metadata": {
    "execution": {
     "iopub.execute_input": "2025-10-11T15:55:27.232405Z",
     "iopub.status.busy": "2025-10-11T15:55:27.231661Z",
     "iopub.status.idle": "2025-10-11T15:55:27.235314Z",
     "shell.execute_reply": "2025-10-11T15:55:27.234588Z"
    },
    "papermill": {
     "duration": 0.01366,
     "end_time": "2025-10-11T15:55:27.236408",
     "exception": false,
     "start_time": "2025-10-11T15:55:27.222748",
     "status": "completed"
    },
    "tags": []
   },
   "outputs": [],
   "source": [
    "loaded = False"
   ]
  },
  {
   "cell_type": "code",
   "execution_count": 11,
   "id": "5611c2fa",
   "metadata": {
    "execution": {
     "iopub.execute_input": "2025-10-11T15:55:27.254089Z",
     "iopub.status.busy": "2025-10-11T15:55:27.253492Z",
     "iopub.status.idle": "2025-10-11T15:55:27.257596Z",
     "shell.execute_reply": "2025-10-11T15:55:27.256892Z"
    },
    "papermill": {
     "duration": 0.014055,
     "end_time": "2025-10-11T15:55:27.258716",
     "exception": false,
     "start_time": "2025-10-11T15:55:27.244661",
     "status": "completed"
    },
    "tags": []
   },
   "outputs": [],
   "source": [
    "# Load the best model from training\n",
    "if loaded:\n",
    "    model, optimizer_state, scheduler_state, checkpoint = load_from_checkpoint(\n",
    "        'checkpoints/mgcvae/best_model.pth',\n",
    "        device=device\n",
    "    )\n",
    "    # Model is ready for inference!\n",
    "    # You can also access training history:\n",
    "    print(f\"\\nTraining stopped at epoch: {checkpoint['epoch']}\")\n",
    "    print(f\"Final validation loss: {checkpoint['best_val_loss']:.4f}\")"
   ]
  },
  {
   "cell_type": "code",
   "execution_count": 12,
   "id": "b7febdfb",
   "metadata": {
    "execution": {
     "iopub.execute_input": "2025-10-11T15:55:27.275988Z",
     "iopub.status.busy": "2025-10-11T15:55:27.275770Z",
     "iopub.status.idle": "2025-10-11T15:55:27.565451Z",
     "shell.execute_reply": "2025-10-11T15:55:27.564547Z"
    },
    "papermill": {
     "duration": 0.299983,
     "end_time": "2025-10-11T15:55:27.566936",
     "exception": false,
     "start_time": "2025-10-11T15:55:27.266953",
     "status": "completed"
    },
    "tags": []
   },
   "outputs": [],
   "source": [
    "if not loaded:\n",
    "    model_config = {\n",
    "        'node_dim': 29,\n",
    "        'edge_dim': 6,\n",
    "        'latent_dim': 32,\n",
    "        'hidden_dim': 64,\n",
    "        'num_properties': 1,\n",
    "        'num_layers': 3,\n",
    "        'heads': 4,\n",
    "        'max_nodes': 20,\n",
    "        'beta': 0.01,      # Start with low KL weight\n",
    "        'gamma': 1.0,      # Property prediction weight\n",
    "        'dropout': 0.1\n",
    "    }\n",
    "    model = MGCVAE(**model_config).to(device)"
   ]
  },
  {
   "cell_type": "code",
   "execution_count": 13,
   "id": "3f6852fc",
   "metadata": {
    "execution": {
     "iopub.execute_input": "2025-10-11T15:55:27.585597Z",
     "iopub.status.busy": "2025-10-11T15:55:27.585328Z",
     "iopub.status.idle": "2025-10-11T15:55:27.591427Z",
     "shell.execute_reply": "2025-10-11T15:55:27.590592Z"
    },
    "papermill": {
     "duration": 0.017101,
     "end_time": "2025-10-11T15:55:27.592708",
     "exception": false,
     "start_time": "2025-10-11T15:55:27.575607",
     "status": "completed"
    },
    "tags": []
   },
   "outputs": [],
   "source": [
    "trainer = MGCVAETrainer(\n",
    "    model=model,\n",
    "    train_loader=train_loader,\n",
    "    val_loader=val_loader,\n",
    "    test_loader=test_loader,\n",
    "    lr=1e-3,\n",
    "    device=device,\n",
    "    save_dir='checkpoints/mgcvae'\n",
    ")"
   ]
  },
  {
   "cell_type": "code",
   "execution_count": 14,
   "id": "fc7875e0",
   "metadata": {
    "execution": {
     "iopub.execute_input": "2025-10-11T15:55:27.609744Z",
     "iopub.status.busy": "2025-10-11T15:55:27.609546Z",
     "iopub.status.idle": "2025-10-11T15:55:27.613209Z",
     "shell.execute_reply": "2025-10-11T15:55:27.612488Z"
    },
    "papermill": {
     "duration": 0.013696,
     "end_time": "2025-10-11T15:55:27.614344",
     "exception": false,
     "start_time": "2025-10-11T15:55:27.600648",
     "status": "completed"
    },
    "tags": []
   },
   "outputs": [],
   "source": [
    "if loaded: trainer.load_optimizer_scheduler(optimizer_state, scheduler_state)"
   ]
  },
  {
   "cell_type": "code",
   "execution_count": 15,
   "id": "7686ca89",
   "metadata": {
    "execution": {
     "iopub.execute_input": "2025-10-11T15:55:27.631166Z",
     "iopub.status.busy": "2025-10-11T15:55:27.630843Z",
     "iopub.status.idle": "2025-10-11T16:52:44.051364Z",
     "shell.execute_reply": "2025-10-11T16:52:44.050634Z"
    },
    "papermill": {
     "duration": 3436.431701,
     "end_time": "2025-10-11T16:52:44.054094",
     "exception": false,
     "start_time": "2025-10-11T15:55:27.622393",
     "status": "completed"
    },
    "tags": []
   },
   "outputs": [
    {
     "name": "stdout",
     "output_type": "stream",
     "text": [
      "Starting MGCVAE training from epoch 0 to 9\n",
      "Model parameters: 105,216\n",
      "Device: cuda\n",
      "\n",
      "Epoch 0/9\n"
     ]
    },
    {
     "name": "stderr",
     "output_type": "stream",
     "text": [
      "Training: 100%|██████████| 980/980 [05:24<00:00,  3.02it/s, Loss=1.4124, Recon=1.2793, KL=1.7053, Prop=0.1161]\n",
      "Validation: 100%|██████████| 123/123 [00:21<00:00,  5.65it/s]\n"
     ]
    },
    {
     "name": "stdout",
     "output_type": "stream",
     "text": [
      "New best model saved! Val loss: 1.0751\n",
      "Train Loss: 1.3690 | Val Loss: 1.0751\n",
      "Recon: 1.2026 | KL: 3.1970 | Prop: 0.1345\n",
      "LR: 1.00e-03 | Patience: 0/30\n",
      "\n",
      "Epoch 1/9\n"
     ]
    },
    {
     "name": "stderr",
     "output_type": "stream",
     "text": [
      "Training: 100%|██████████| 980/980 [05:22<00:00,  3.04it/s, Loss=0.7942, Recon=0.6684, KL=4.5325, Prop=0.0805]\n",
      "Validation: 100%|██████████| 123/123 [00:21<00:00,  5.66it/s]\n"
     ]
    },
    {
     "name": "stdout",
     "output_type": "stream",
     "text": [
      "New best model saved! Val loss: 1.0192\n",
      "Train Loss: 1.1014 | Val Loss: 1.0192\n",
      "Recon: 0.9595 | KL: 2.7503 | Prop: 0.1144\n",
      "LR: 1.00e-03 | Patience: 0/30\n",
      "\n",
      "Epoch 2/9\n"
     ]
    },
    {
     "name": "stderr",
     "output_type": "stream",
     "text": [
      "Training: 100%|██████████| 980/980 [05:22<00:00,  3.04it/s, Loss=1.4594, Recon=1.2779, KL=1.9670, Prop=0.1618]\n",
      "Validation: 100%|██████████| 123/123 [00:21<00:00,  5.65it/s]\n"
     ]
    },
    {
     "name": "stdout",
     "output_type": "stream",
     "text": [
      "New best model saved! Val loss: 1.0141\n",
      "Train Loss: 1.0787 | Val Loss: 1.0141\n",
      "Recon: 0.9423 | KL: 2.5172 | Prop: 0.1112\n",
      "LR: 1.00e-03 | Patience: 0/30\n",
      "\n",
      "Epoch 3/9\n"
     ]
    },
    {
     "name": "stderr",
     "output_type": "stream",
     "text": [
      "Training: 100%|██████████| 980/980 [05:21<00:00,  3.05it/s, Loss=1.0228, Recon=0.9368, KL=2.3261, Prop=0.0627]\n",
      "Validation: 100%|██████████| 123/123 [00:21<00:00,  5.65it/s]\n"
     ]
    },
    {
     "name": "stdout",
     "output_type": "stream",
     "text": [
      "New best model saved! Val loss: 1.0032\n",
      "Train Loss: 1.0713 | Val Loss: 1.0032\n",
      "Recon: 0.9356 | KL: 2.5053 | Prop: 0.1107\n",
      "LR: 1.00e-03 | Patience: 0/30\n",
      "\n",
      "Epoch 4/9\n"
     ]
    },
    {
     "name": "stderr",
     "output_type": "stream",
     "text": [
      "Training: 100%|██████████| 980/980 [05:20<00:00,  3.06it/s, Loss=0.9303, Recon=0.8077, KL=2.5725, Prop=0.0968]\n",
      "Validation: 100%|██████████| 123/123 [00:21<00:00,  5.68it/s]\n"
     ]
    },
    {
     "name": "stdout",
     "output_type": "stream",
     "text": [
      "New best model saved! Val loss: 0.9960\n",
      "Train Loss: 1.0564 | Val Loss: 0.9960\n",
      "Recon: 0.9233 | KL: 2.2873 | Prop: 0.1103\n",
      "LR: 1.00e-03 | Patience: 0/30\n",
      "\n",
      "Epoch 5/9\n"
     ]
    },
    {
     "name": "stderr",
     "output_type": "stream",
     "text": [
      "Training: 100%|██████████| 980/980 [05:22<00:00,  3.04it/s, Loss=1.2667, Recon=1.1255, KL=1.1365, Prop=0.1299]\n",
      "Validation: 100%|██████████| 123/123 [00:21<00:00,  5.66it/s]\n"
     ]
    },
    {
     "name": "stdout",
     "output_type": "stream",
     "text": [
      "Train Loss: 1.0433 | Val Loss: 1.0537\n",
      "Recon: 0.9129 | KL: 2.1149 | Prop: 0.1092\n",
      "LR: 1.00e-03 | Patience: 1/30\n",
      "\n",
      "Epoch 6/9\n"
     ]
    },
    {
     "name": "stderr",
     "output_type": "stream",
     "text": [
      "Training: 100%|██████████| 980/980 [05:21<00:00,  3.05it/s, Loss=0.8886, Recon=0.7249, KL=2.8716, Prop=0.1350]\n",
      "Validation: 100%|██████████| 123/123 [00:21<00:00,  5.64it/s]\n"
     ]
    },
    {
     "name": "stdout",
     "output_type": "stream",
     "text": [
      "New best model saved! Val loss: 0.9893\n",
      "Train Loss: 1.0346 | Val Loss: 0.9893\n",
      "Recon: 0.9060 | KL: 1.9301 | Prop: 0.1094\n",
      "LR: 1.00e-03 | Patience: 0/30\n",
      "\n",
      "Epoch 7/9\n"
     ]
    },
    {
     "name": "stderr",
     "output_type": "stream",
     "text": [
      "Training: 100%|██████████| 980/980 [05:21<00:00,  3.05it/s, Loss=1.0494, Recon=1.0082, KL=1.7782, Prop=0.0234]\n",
      "Validation: 100%|██████████| 123/123 [00:21<00:00,  5.64it/s]\n"
     ]
    },
    {
     "name": "stdout",
     "output_type": "stream",
     "text": [
      "New best model saved! Val loss: 0.9879\n",
      "Train Loss: 1.0314 | Val Loss: 0.9879\n",
      "Recon: 0.9050 | KL: 1.7816 | Prop: 0.1086\n",
      "LR: 1.00e-03 | Patience: 0/30\n",
      "\n",
      "Epoch 8/9\n"
     ]
    },
    {
     "name": "stderr",
     "output_type": "stream",
     "text": [
      "Training: 100%|██████████| 980/980 [05:20<00:00,  3.05it/s, Loss=1.0737, Recon=1.0019, KL=1.1873, Prop=0.0599]\n",
      "Validation: 100%|██████████| 123/123 [00:21<00:00,  5.69it/s]\n"
     ]
    },
    {
     "name": "stdout",
     "output_type": "stream",
     "text": [
      "New best model saved! Val loss: 0.9735\n",
      "Train Loss: 1.0262 | Val Loss: 0.9735\n",
      "Recon: 0.8996 | KL: 1.7497 | Prop: 0.1091\n",
      "LR: 1.00e-03 | Patience: 0/30\n",
      "\n",
      "Epoch 9/9\n"
     ]
    },
    {
     "name": "stderr",
     "output_type": "stream",
     "text": [
      "Training: 100%|██████████| 980/980 [05:20<00:00,  3.05it/s, Loss=1.0768, Recon=0.7470, KL=1.0891, Prop=0.3189]\n",
      "Validation: 100%|██████████| 123/123 [00:21<00:00,  5.67it/s]\n"
     ]
    },
    {
     "name": "stdout",
     "output_type": "stream",
     "text": [
      "Train Loss: 1.0228 | Val Loss: 0.9746\n",
      "Recon: 0.8970 | KL: 1.7168 | Prop: 0.1086\n",
      "LR: 1.00e-03 | Patience: 1/30\n"
     ]
    },
    {
     "data": {
      "image/png": "[encoded data removed]",
      "text/plain": [
       "<Figure size 1200x800 with 4 Axes>"
      ]
     },
     "metadata": {},
     "output_type": "display_data"
    },
    {
     "name": "stdout",
     "output_type": "stream",
     "text": [
      "Training completed!\n"
     ]
    }
   ],
   "source": [
    "train_metrics, val_metrics = trainer.train(num_epochs=10, start_epoch=0 if not loaded else checkpoint['epoch']+1)"
   ]
  },
  {
   "cell_type": "markdown",
   "id": "8e4b4b90",
   "metadata": {
    "papermill": {
     "duration": 0.865126,
     "end_time": "2025-10-11T16:52:45.892844",
     "exception": false,
     "start_time": "2025-10-11T16:52:45.027718",
     "status": "completed"
    },
    "tags": []
   },
   "source": [
    "### Metrics"
   ]
  },
  {
   "cell_type": "code",
   "execution_count": 16,
   "id": "12d6e44c",
   "metadata": {
    "execution": {
     "iopub.execute_input": "2025-10-11T16:52:47.715263Z",
     "iopub.status.busy": "2025-10-11T16:52:47.714983Z",
     "iopub.status.idle": "2025-10-11T16:52:47.814425Z",
     "shell.execute_reply": "2025-10-11T16:52:47.813822Z"
    },
    "papermill": {
     "duration": 1.051178,
     "end_time": "2025-10-11T16:52:47.815543",
     "exception": false,
     "start_time": "2025-10-11T16:52:46.764365",
     "status": "completed"
    },
    "tags": []
   },
   "outputs": [],
   "source": [
    "from utils.metrics import (\n",
    "    evaluate_property_prediction,\n",
    "    evaluate_reconstruction_and_kl,\n",
    "    evaluate_novelty_diversity,\n",
    "    evaluate_conditioning_latent\n",
    ")"
   ]
  },
  {
   "cell_type": "code",
   "execution_count": 17,
   "id": "970eae07",
   "metadata": {
    "execution": {
     "iopub.execute_input": "2025-10-11T16:52:49.603841Z",
     "iopub.status.busy": "2025-10-11T16:52:49.603561Z",
     "iopub.status.idle": "2025-10-11T16:52:49.609443Z",
     "shell.execute_reply": "2025-10-11T16:52:49.608575Z"
    },
    "papermill": {
     "duration": 0.940866,
     "end_time": "2025-10-11T16:52:49.610732",
     "exception": false,
     "start_time": "2025-10-11T16:52:48.669866",
     "status": "completed"
    },
    "tags": []
   },
   "outputs": [],
   "source": [
    "from utils.inference import (\n",
    "    batch_logits_to_molecules,\n",
    "    evaluate_generation_quality\n",
    ")"
   ]
  },
  {
   "cell_type": "code",
   "execution_count": 18,
   "id": "d5acbcd6",
   "metadata": {
    "execution": {
     "iopub.execute_input": "2025-10-11T16:52:51.451662Z",
     "iopub.status.busy": "2025-10-11T16:52:51.450795Z",
     "iopub.status.idle": "2025-10-11T16:52:51.454815Z",
     "shell.execute_reply": "2025-10-11T16:52:51.454091Z"
    },
    "papermill": {
     "duration": 0.895326,
     "end_time": "2025-10-11T16:52:51.455956",
     "exception": false,
     "start_time": "2025-10-11T16:52:50.560630",
     "status": "completed"
    },
    "tags": []
   },
   "outputs": [],
   "source": [
    "import warnings\n",
    "warnings.filterwarnings('ignore', category=UserWarning)"
   ]
  },
  {
   "cell_type": "code",
   "execution_count": 19,
   "id": "81072844",
   "metadata": {
    "execution": {
     "iopub.execute_input": "2025-10-11T16:52:53.287381Z",
     "iopub.status.busy": "2025-10-11T16:52:53.287109Z",
     "iopub.status.idle": "2025-10-11T16:53:20.025939Z",
     "shell.execute_reply": "2025-10-11T16:53:20.025121Z"
    },
    "papermill": {
     "duration": 27.604953,
     "end_time": "2025-10-11T16:53:20.027154",
     "exception": false,
     "start_time": "2025-10-11T16:52:52.422201",
     "status": "completed"
    },
    "tags": []
   },
   "outputs": [
    {
     "name": "stdout",
     "output_type": "stream",
     "text": [
      "Property Prediction MSE: 0.4396\n",
      "Avg Reconstruction Loss: 0.8493\n",
      "Avg KL Divergence: 1.5293\n"
     ]
    }
   ],
   "source": [
    "_ = evaluate_property_prediction(model, val_loader, device)\n",
    "_ = evaluate_reconstruction_and_kl(model, val_loader, device)"
   ]
  },
  {
   "cell_type": "code",
   "execution_count": 20,
   "id": "5b5306ea",
   "metadata": {
    "execution": {
     "iopub.execute_input": "2025-10-11T16:53:21.868219Z",
     "iopub.status.busy": "2025-10-11T16:53:21.867963Z",
     "iopub.status.idle": "2025-10-11T16:53:21.875957Z",
     "shell.execute_reply": "2025-10-11T16:53:21.875194Z"
    },
    "papermill": {
     "duration": 0.951778,
     "end_time": "2025-10-11T16:53:21.877164",
     "exception": false,
     "start_time": "2025-10-11T16:53:20.925386",
     "status": "completed"
    },
    "tags": []
   },
   "outputs": [
    {
     "name": "stdout",
     "output_type": "stream",
     "text": [
      "Conditioning Evaluation (latent):\n",
      "Target:            [0.9]\n",
      "Success rate:      0.0% within ±0.15\n",
      "Mean absolute err: 0.2472\n",
      "Predicted mean:    [0.6527858972549438]\n",
      "  Predicted std:     [0.018461933359503746]\n"
     ]
    },
    {
     "data": {
      "text/plain": [
       "{'success_rate': 0.0,\n",
       " 'mae': 0.2472141146659852,\n",
       " 'mean_pred': [0.6527858972549438],\n",
       " 'std_pred': [0.018461933359503746]}"
      ]
     },
     "execution_count": 20,
     "metadata": {},
     "output_type": "execute_result"
    }
   ],
   "source": [
    "evaluate_conditioning_latent(model, target=[0.9], num_samples=20, tolerance=0.15, device=device)"
   ]
  },
  {
   "cell_type": "markdown",
   "id": "60f3f3de",
   "metadata": {
    "papermill": {
     "duration": 0.853733,
     "end_time": "2025-10-11T16:53:23.676982",
     "exception": false,
     "start_time": "2025-10-11T16:53:22.823249",
     "status": "completed"
    },
    "tags": []
   },
   "source": [
    "### Inference\n",
    "Once the metrics are within reasonable thresholds, we can conditionally generate new molecules"
   ]
  },
  {
   "cell_type": "code",
   "execution_count": null,
   "id": "8490330e",
   "metadata": {
    "papermill": {
     "duration": 0.855496,
     "end_time": "2025-10-11T16:53:25.483363",
     "exception": false,
     "start_time": "2025-10-11T16:53:24.627867",
     "status": "completed"
    },
    "tags": []
   },
   "outputs": [],
   "source": []
  }
 ],
 "metadata": {
  "kaggle": {
   "accelerator": "nvidiaTeslaT4",
   "dataSources": [],
   "dockerImageVersionId": 31154,
   "isGpuEnabled": true,
   "isInternetEnabled": true,
   "language": "python",
   "sourceType": "notebook"
  },
  "kernelspec": {
   "display_name": "Python 3",
   "language": "python",
   "name": "python3"
  },
  "language_info": {
   "codemirror_mode": {
    "name": "ipython",
    "version": 3
   },
   "file_extension": ".py",
   "mimetype": "text/x-python",
   "name": "python",
   "nbconvert_exporter": "python",
   "pygments_lexer": "ipython3",
   "version": "3.11.13"
  },
  "papermill": {
   "default_parameters": {},
   "duration": 4299.240075,
   "end_time": "2025-10-11T16:53:28.917117",
   "environment_variables": {},
   "exception": null,
   "input_path": "__notebook__.ipynb",
   "output_path": "__notebook__.ipynb",
   "parameters": {},
   "start_time": "2025-10-11T15:41:49.677042",
   "version": "2.6.0"
  }
 },
 "nbformat": 4,
 "nbformat_minor": 5
}
