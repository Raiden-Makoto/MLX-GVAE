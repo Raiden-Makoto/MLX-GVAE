{
 "cells": [
  {
   "cell_type": "markdown",
   "id": "18c8af16",
   "metadata": {},
   "source": [
    "### Multi-Conditional Graph Variational Autoencoder"
   ]
  },
  {
   "cell_type": "code",
   "execution_count": 1,
   "id": "b143ce2f",
   "metadata": {},
   "outputs": [],
   "source": [
    "import torch\n",
    "device = torch.device('mps' if torch.backends.mps.is_available() else 'cpu')"
   ]
  },
  {
   "cell_type": "code",
   "execution_count": 2,
   "id": "d8852c0c",
   "metadata": {},
   "outputs": [],
   "source": [
    "from data.dataset import QM9GraphDataset\n",
    "from utils.datautils import create_data_loaders\n",
    "from mgcvae import MGCVAE\n",
    "from trainer import MGCVAETrainer\n",
    "from utils.trainutils import load_from_checkpoint"
   ]
  },
  {
   "cell_type": "code",
   "execution_count": 3,
   "id": "66bef446",
   "metadata": {},
   "outputs": [
    {
     "name": "stderr",
     "output_type": "stream",
     "text": [
      "Processing...\n"
     ]
    },
    {
     "name": "stdout",
     "output_type": "stream",
     "text": [
      "Processing 4898 molecules...\n",
      "Successfully processed 4898 molecules, failed: 0\n"
     ]
    },
    {
     "name": "stderr",
     "output_type": "stream",
     "text": [
      "Done!\n"
     ]
    }
   ],
   "source": [
    "dataset = QM9GraphDataset(csv_path='./data/qm9_bbbp2.csv')"
   ]
  },
  {
   "cell_type": "code",
   "execution_count": 4,
   "id": "77be3343",
   "metadata": {},
   "outputs": [
    {
     "name": "stdout",
     "output_type": "stream",
     "text": [
      "Dataset splits — Train: 3918, Val: 490, Test: 490\n"
     ]
    }
   ],
   "source": [
    "train_loader, val_loader, test_loader = create_data_loaders(dataset, batch_size=4)"
   ]
  },
  {
   "cell_type": "code",
   "execution_count": 5,
   "id": "6f9917ff",
   "metadata": {},
   "outputs": [
    {
     "name": "stdout",
     "output_type": "stream",
     "text": [
      "Model loaded from checkpoints/mgcvae/best_model.pth\n",
      "Epoch: 18, Best Val Loss: 0.8214\n",
      "\n",
      "Training stopped at epoch: 18\n",
      "Final validation loss: 0.8214\n"
     ]
    }
   ],
   "source": [
    "# Load the best model from training\n",
    "model, optimizer_state, scheduler_state, checkpoint = load_from_checkpoint(\n",
    "    'checkpoints/mgcvae/best_model.pth',\n",
    "    device=device\n",
    ")\n",
    "loaded = True\n",
    "\n",
    "# Model is ready for inference!\n",
    "# You can also access training history:\n",
    "print(f\"\\nTraining stopped at epoch: {checkpoint['epoch']}\")\n",
    "print(f\"Final validation loss: {checkpoint['best_val_loss']:.4f}\")"
   ]
  },
  {
   "cell_type": "markdown",
   "id": "f997a644",
   "metadata": {},
   "source": [
    "### If we haven't Trained yet"
   ]
  },
  {
   "cell_type": "code",
   "execution_count": 6,
   "id": "4835a2c4",
   "metadata": {},
   "outputs": [],
   "source": [
    "if not loaded:\n",
    "    model_config = {\n",
    "        'node_dim': 29,\n",
    "        'edge_dim': 6,\n",
    "        'latent_dim': 32,\n",
    "        'hidden_dim': 64,\n",
    "        'num_properties': 1,\n",
    "        'num_layers': 3,\n",
    "        'heads': 4,\n",
    "        'max_nodes': 20,\n",
    "        'beta': 0.01,      # Start with low KL weight\n",
    "        'gamma': 1.0,      # Property prediction weight\n",
    "        'dropout': 0.1\n",
    "    }\n",
    "    model = MGCVAE(**model_config).to(device)"
   ]
  },
  {
   "cell_type": "code",
   "execution_count": 7,
   "id": "165f5c76",
   "metadata": {},
   "outputs": [],
   "source": [
    "trainer = MGCVAETrainer(\n",
    "    model=model,\n",
    "    train_loader=train_loader,\n",
    "    val_loader=val_loader,\n",
    "    test_loader=test_loader,\n",
    "    lr=1e-3,\n",
    "    device=device,\n",
    "    save_dir='checkpoints/mgcvae'\n",
    ")"
   ]
  },
  {
   "cell_type": "code",
   "execution_count": 8,
   "id": "82aab50c",
   "metadata": {},
   "outputs": [
    {
     "name": "stdout",
     "output_type": "stream",
     "text": [
      "Optimizer and scheduler states loaded\n"
     ]
    }
   ],
   "source": [
    "trainer.load_optimizer_scheduler(optimizer_state, scheduler_state)"
   ]
  },
  {
   "cell_type": "code",
   "execution_count": 9,
   "id": "4fbc8107",
   "metadata": {},
   "outputs": [
    {
     "name": "stdout",
     "output_type": "stream",
     "text": [
      "Starting MGCVAE training from epoch 19 to 21\n",
      "Model parameters: 105,216\n",
      "Device: mps\n",
      "\n",
      "Epoch 19/21\n"
     ]
    },
    {
     "name": "stderr",
     "output_type": "stream",
     "text": [
      "Training: 100%|██████████| 980/980 [12:53<00:00,  1.27it/s, Loss=0.9873, Recon=0.9723, KL=1.3295, Prop=0.0017]\n",
      "Validation: 100%|██████████| 123/123 [00:57<00:00,  2.15it/s]\n"
     ]
    },
    {
     "name": "stdout",
     "output_type": "stream",
     "text": [
      "New best model saved! Val loss: 0.9521\n",
      "Train Loss: 1.0201 | Val Loss: 0.9521\n",
      "Recon: 0.8823 | KL: 2.8503 | Prop: 0.1093\n",
      "LR: 1.00e-03 | Patience: 0/30\n",
      "\n",
      "Epoch 20/21\n"
     ]
    },
    {
     "name": "stderr",
     "output_type": "stream",
     "text": [
      "Training:  28%|██▊       | 279/980 [02:35<06:30,  1.79it/s, Loss=1.0501, Recon=0.9246, KL=2.4851, Prop=0.1006]\n"
     ]
    },
    {
     "ename": "KeyboardInterrupt",
     "evalue": "",
     "output_type": "error",
     "traceback": [
      "\u001b[31m---------------------------------------------------------------------------\u001b[39m",
      "\u001b[31mKeyboardInterrupt\u001b[39m                         Traceback (most recent call last)",
      "\u001b[36mCell\u001b[39m\u001b[36m \u001b[39m\u001b[32mIn[9]\u001b[39m\u001b[32m, line 1\u001b[39m\n\u001b[32m----> \u001b[39m\u001b[32m1\u001b[39m train_metrics, val_metrics = \u001b[43mtrainer\u001b[49m\u001b[43m.\u001b[49m\u001b[43mtrain\u001b[49m\u001b[43m(\u001b[49m\u001b[43mnum_epochs\u001b[49m\u001b[43m=\u001b[49m\u001b[32;43m3\u001b[39;49m\u001b[43m,\u001b[49m\u001b[43m \u001b[49m\u001b[43mstart_epoch\u001b[49m\u001b[43m=\u001b[49m\u001b[43mcheckpoint\u001b[49m\u001b[43m[\u001b[49m\u001b[33;43m'\u001b[39;49m\u001b[33;43mepoch\u001b[39;49m\u001b[33;43m'\u001b[39;49m\u001b[43m]\u001b[49m\u001b[43m+\u001b[49m\u001b[32;43m1\u001b[39;49m\u001b[43m)\u001b[49m\n",
      "\u001b[36mFile \u001b[39m\u001b[32m~/Downloads/QVAE/trainer.py:316\u001b[39m, in \u001b[36mMGCVAETrainer.train\u001b[39m\u001b[34m(self, num_epochs, start_epoch)\u001b[39m\n\u001b[32m    310\u001b[39m \u001b[38;5;28mprint\u001b[39m(\u001b[33mf\u001b[39m\u001b[33m\"\u001b[39m\u001b[38;5;130;01m\\n\u001b[39;00m\u001b[33mEpoch \u001b[39m\u001b[38;5;132;01m{\u001b[39;00mepoch\u001b[38;5;132;01m}\u001b[39;00m\u001b[33m/\u001b[39m\u001b[38;5;132;01m{\u001b[39;00mend_epoch\u001b[38;5;132;01m}\u001b[39;00m\u001b[33m\"\u001b[39m)\n\u001b[32m    312\u001b[39m \u001b[38;5;66;03m# =====================================================================\u001b[39;00m\n\u001b[32m    313\u001b[39m \u001b[38;5;66;03m# Training and Validation\u001b[39;00m\n\u001b[32m    314\u001b[39m \u001b[38;5;66;03m# =====================================================================\u001b[39;00m\n\u001b[32m--> \u001b[39m\u001b[32m316\u001b[39m train_losses = \u001b[38;5;28;43mself\u001b[39;49m\u001b[43m.\u001b[49m\u001b[43mtrain_epoch\u001b[49m\u001b[43m(\u001b[49m\u001b[43m)\u001b[49m\n\u001b[32m    317\u001b[39m val_losses = \u001b[38;5;28mself\u001b[39m.validate_epoch()\n\u001b[32m    319\u001b[39m \u001b[38;5;66;03m# Record metrics\u001b[39;00m\n",
      "\u001b[36mFile \u001b[39m\u001b[32m~/Downloads/QVAE/trainer.py:104\u001b[39m, in \u001b[36mMGCVAETrainer.train_epoch\u001b[39m\u001b[34m(self)\u001b[39m\n\u001b[32m    102\u001b[39m \u001b[38;5;28mself\u001b[39m.optimizer.zero_grad()\n\u001b[32m    103\u001b[39m model_output = \u001b[38;5;28mself\u001b[39m.model(batch)\n\u001b[32m--> \u001b[39m\u001b[32m104\u001b[39m loss_dict = \u001b[38;5;28;43mself\u001b[39;49m\u001b[43m.\u001b[49m\u001b[43mmodel\u001b[49m\u001b[43m.\u001b[49m\u001b[43mcompute_loss\u001b[49m\u001b[43m(\u001b[49m\u001b[43mbatch\u001b[49m\u001b[43m,\u001b[49m\u001b[43m \u001b[49m\u001b[43mmodel_output\u001b[49m\u001b[43m)\u001b[49m\n\u001b[32m    106\u001b[39m \u001b[38;5;66;03m# =====================================================================\u001b[39;00m\n\u001b[32m    107\u001b[39m \u001b[38;5;66;03m# Backward Pass\u001b[39;00m\n\u001b[32m    108\u001b[39m \u001b[38;5;66;03m# =====================================================================\u001b[39;00m\n\u001b[32m    110\u001b[39m loss_dict[\u001b[33m'\u001b[39m\u001b[33mtotal_loss\u001b[39m\u001b[33m'\u001b[39m].backward()\n",
      "\u001b[36mFile \u001b[39m\u001b[32m~/Downloads/QVAE/mgcvae.py:238\u001b[39m, in \u001b[36mMGCVAE.compute_loss\u001b[39m\u001b[34m(self, batch, model_output)\u001b[39m\n\u001b[32m    229\u001b[39m \u001b[38;5;66;03m# =====================================================================\u001b[39;00m\n\u001b[32m    230\u001b[39m \u001b[38;5;66;03m# Reconstruction Loss\u001b[39;00m\n\u001b[32m    231\u001b[39m \u001b[38;5;66;03m# =====================================================================\u001b[39;00m\n\u001b[32m    232\u001b[39m \u001b[38;5;66;03m# Measures how well the model can recreate input graphs\u001b[39;00m\n\u001b[32m    234\u001b[39m node_recon_loss = \u001b[38;5;28mself\u001b[39m._compute_node_reconstruction_loss(\n\u001b[32m    235\u001b[39m     batch, decoder_out, batch_size\n\u001b[32m    236\u001b[39m )\n\u001b[32m--> \u001b[39m\u001b[32m238\u001b[39m edge_recon_loss = \u001b[38;5;28;43mself\u001b[39;49m\u001b[43m.\u001b[49m\u001b[43m_compute_edge_reconstruction_loss\u001b[49m\u001b[43m(\u001b[49m\n\u001b[32m    239\u001b[39m \u001b[43m    \u001b[49m\u001b[43mbatch\u001b[49m\u001b[43m,\u001b[49m\u001b[43m \u001b[49m\u001b[43mdecoder_out\u001b[49m\u001b[43m,\u001b[49m\u001b[43m \u001b[49m\u001b[43mbatch_size\u001b[49m\n\u001b[32m    240\u001b[39m \u001b[43m\u001b[49m\u001b[43m)\u001b[49m\n\u001b[32m    242\u001b[39m total_recon_loss = node_recon_loss + edge_recon_loss\n\u001b[32m    244\u001b[39m \u001b[38;5;66;03m# =====================================================================\u001b[39;00m\n\u001b[32m    245\u001b[39m \u001b[38;5;66;03m# KL Divergence Loss\u001b[39;00m\n\u001b[32m    246\u001b[39m \u001b[38;5;66;03m# =====================================================================\u001b[39;00m\n\u001b[32m    247\u001b[39m \u001b[38;5;66;03m# Regularizes latent distribution: KL(q(z|x) || p(z)) where p(z) = N(0,I)\u001b[39;00m\n",
      "\u001b[36mFile \u001b[39m\u001b[32m~/Downloads/QVAE/mgcvae.py:370\u001b[39m, in \u001b[36mMGCVAE._compute_edge_reconstruction_loss\u001b[39m\u001b[34m(self, batch, decoder_output, batch_size)\u001b[39m\n\u001b[32m    368\u001b[39m \u001b[38;5;66;03m# Skip if outside this graph's size\u001b[39;00m\n\u001b[32m    369\u001b[39m \u001b[38;5;28;01mif\u001b[39;00m i >= graph_size \u001b[38;5;129;01mor\u001b[39;00m j >= graph_size:\n\u001b[32m--> \u001b[39m\u001b[32m370\u001b[39m     \u001b[38;5;28;01mcontinue\u001b[39;00m\n\u001b[32m    372\u001b[39m \u001b[38;5;66;03m# Check if this edge exists in real graph\u001b[39;00m\n\u001b[32m    373\u001b[39m edge_exists = \u001b[38;5;28;01mFalse\u001b[39;00m\n",
      "\u001b[31mKeyboardInterrupt\u001b[39m: "
     ]
    }
   ],
   "source": [
    "train_metrics, val_metrics = trainer.train(num_epochs=3, start_epoch=checkpoint['epoch']+1)"
   ]
  },
  {
   "cell_type": "markdown",
   "id": "68e09010",
   "metadata": {},
   "source": [
    "### Metrics"
   ]
  },
  {
   "cell_type": "code",
   "execution_count": 10,
   "id": "86b90394",
   "metadata": {},
   "outputs": [],
   "source": [
    "from utils.metrics import (\n",
    "    evaluate_property_prediction,\n",
    "    evaluate_reconstruction_and_kl,\n",
    "    evaluate_novelty_diversity,\n",
    "    evaluate_conditioning_latent\n",
    ")"
   ]
  },
  {
   "cell_type": "code",
   "execution_count": 11,
   "id": "00b0138f",
   "metadata": {},
   "outputs": [],
   "source": [
    "from utils.inference import (\n",
    "    batch_logits_to_molecules,\n",
    "    evaluate_generation_quality\n",
    ")"
   ]
  },
  {
   "cell_type": "code",
   "execution_count": 12,
   "id": "e328bff4",
   "metadata": {},
   "outputs": [],
   "source": [
    "import warnings\n",
    "warnings.filterwarnings('ignore', category=UserWarning)"
   ]
  },
  {
   "cell_type": "code",
   "execution_count": 13,
   "id": "c8e42843",
   "metadata": {},
   "outputs": [
    {
     "name": "stdout",
     "output_type": "stream",
     "text": [
      "Property Prediction MSE: 0.3753\n",
      "Avg Reconstruction Loss: 0.7220\n",
      "Avg KL Divergence: 2.5864\n"
     ]
    }
   ],
   "source": [
    "_ = evaluate_property_prediction(model, val_loader, device)\n",
    "_ = evaluate_reconstruction_and_kl(model, val_loader, device)"
   ]
  },
  {
   "cell_type": "code",
   "execution_count": 14,
   "id": "ab76e3f6",
   "metadata": {},
   "outputs": [
    {
     "name": "stdout",
     "output_type": "stream",
     "text": [
      "Conditioning Evaluation (latent):\n",
      "Target:            [0.9]\n",
      "Success rate:      20.0% within ±0.15\n",
      "Mean absolute err: 0.2218\n",
      "Predicted mean:    [0.6782122850418091]\n",
      "  Predicted std:     [0.10340068489313126]\n"
     ]
    },
    {
     "data": {
      "text/plain": [
       "{'success_rate': 20.0,\n",
       " 'mae': 0.22178768515586858,\n",
       " 'mean_pred': [0.6782122850418091],\n",
       " 'std_pred': [0.10340068489313126]}"
      ]
     },
     "execution_count": 14,
     "metadata": {},
     "output_type": "execute_result"
    }
   ],
   "source": [
    "evaluate_conditioning_latent(model, target=[0.9], num_samples=20, tolerance=0.15, device=device)"
   ]
  },
  {
   "cell_type": "markdown",
   "id": "cc53b08a",
   "metadata": {},
   "source": [
    "### Inference\n",
    "Once the metrics are within reasonable thresholds, we can conditionally generate new molecules"
   ]
  },
  {
   "cell_type": "code",
   "execution_count": null,
   "id": "b8932752",
   "metadata": {},
   "outputs": [],
   "source": []
  }
 ],
 "metadata": {
  "kernelspec": {
   "display_name": "qvae",
   "language": "python",
   "name": "python3"
  },
  "language_info": {
   "codemirror_mode": {
    "name": "ipython",
    "version": 3
   },
   "file_extension": ".py",
   "mimetype": "text/x-python",
   "name": "python",
   "nbconvert_exporter": "python",
   "pygments_lexer": "ipython3",
   "version": "3.11.13"
  }
 },
 "nbformat": 4,
 "nbformat_minor": 5
}
