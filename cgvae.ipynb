{
 "cells": [
  {
   "cell_type": "code",
   "execution_count": 11,
   "id": "b143ce2f",
   "metadata": {},
   "outputs": [],
   "source": [
    "import torch\n",
    "device = torch.device('mps' if torch.backends.mps.is_available() else 'cpu')"
   ]
  },
  {
   "cell_type": "markdown",
   "id": "fdc553b0",
   "metadata": {},
   "source": [
    "## QM9 Dataset Enhanced with BBBP"
   ]
  },
  {
   "cell_type": "code",
   "execution_count": 1,
   "id": "d8852c0c",
   "metadata": {},
   "outputs": [],
   "source": [
    "from dataset import QM9GraphDataset, create_data_loaders"
   ]
  },
  {
   "cell_type": "code",
   "execution_count": 2,
   "id": "66bef446",
   "metadata": {},
   "outputs": [
    {
     "name": "stderr",
     "output_type": "stream",
     "text": [
      "Processing...\n"
     ]
    },
    {
     "name": "stdout",
     "output_type": "stream",
     "text": [
      "Processing 2142 molecules...\n",
      "Successfully processed 2142 molecules, failed: 0\n"
     ]
    },
    {
     "name": "stderr",
     "output_type": "stream",
     "text": [
      "Done!\n"
     ]
    }
   ],
   "source": [
    "dataset = QM9GraphDataset(csv_path='qm9_bbbp.csv')"
   ]
  },
  {
   "cell_type": "code",
   "execution_count": 3,
   "id": "77be3343",
   "metadata": {},
   "outputs": [
    {
     "name": "stdout",
     "output_type": "stream",
     "text": [
      "Dataset splits — Train: 1713, Val: 214, Test: 215\n"
     ]
    }
   ],
   "source": [
    "train_loader, val_loader, test_loader = create_data_loaders(dataset, batch_size=4)"
   ]
  },
  {
   "cell_type": "code",
   "execution_count": 8,
   "id": "19c07cee",
   "metadata": {},
   "outputs": [
    {
     "name": "stdout",
     "output_type": "stream",
     "text": [
      "Batch x shape: torch.Size([72, 29])\n",
      "Batch edge_index shape: torch.Size([2, 150])\n",
      "Batch edge_attr shape: torch.Size([150, 6])\n",
      "Batch y shape: torch.Size([4])\n"
     ]
    }
   ],
   "source": [
    "for batch in train_loader:\n",
    "    print(\"Batch x shape:\", batch.x.shape)\n",
    "    print(\"Batch edge_index shape:\", batch.edge_index.shape)\n",
    "    print(\"Batch edge_attr shape:\", batch.edge_attr.shape)\n",
    "    print(\"Batch y shape:\", batch.y.shape)\n",
    "    break"
   ]
  },
  {
   "cell_type": "markdown",
   "id": "2d53320a",
   "metadata": {},
   "source": [
    "## GraphEncoder\n",
    "Graph Neural Network Encoder for molecular graphs following current literature best practices\n",
    "    \n",
    "References:\n",
    "- Uses multi-head GAT for attention-based aggregation (Veličković et al., 2017)\n",
    "- Incorporates residual connections and layer normalization (He et al., 2016)\n",
    "- Multiple pooling strategies for graph-level representation (Xu et al., 2018)\n",
    "- Dropout and batch normalization for regularization"
   ]
  },
  {
   "cell_type": "code",
   "execution_count": 4,
   "id": "63e16319",
   "metadata": {},
   "outputs": [],
   "source": [
    "import torch.nn as nn\n",
    "import torch.nn.functional as F\n",
    "\n",
    "from torch_geometric.nn import GCNConv, GATConv, global_mean_pool, global_add_pool\n",
    "from torch_geometric.nn import BatchNorm"
   ]
  },
  {
   "cell_type": "code",
   "execution_count": 5,
   "id": "d13747ee",
   "metadata": {},
   "outputs": [],
   "source": [
    "from models.graphencoder import GraphEncoder"
   ]
  },
  {
   "cell_type": "code",
   "execution_count": 9,
   "id": "b1a2fc37",
   "metadata": {},
   "outputs": [],
   "source": [
    "node_dim = 29\n",
    "edge_dim = 6\n",
    "hidden_dim = 64\n",
    "latent_dim = 32\n",
    "num_layers = 4\n",
    "heads = 4"
   ]
  },
  {
   "cell_type": "code",
   "execution_count": 12,
   "id": "a7a19f91",
   "metadata": {},
   "outputs": [],
   "source": [
    "GE = GraphEncoder(node_dim, edge_dim, hidden_dim, latent_dim, num_layers, heads).to(device)"
   ]
  },
  {
   "cell_type": "code",
   "execution_count": 13,
   "id": "f1e39596",
   "metadata": {},
   "outputs": [],
   "source": [
    "one_batch = next(iter(train_loader)).to(device)"
   ]
  },
  {
   "cell_type": "code",
   "execution_count": 15,
   "id": "5d83e40a",
   "metadata": {},
   "outputs": [
    {
     "name": "stdout",
     "output_type": "stream",
     "text": [
      "torch.Size([4, 32]) torch.Size([4, 32])\n"
     ]
    }
   ],
   "source": [
    "mu, log_var = GE(\n",
    "    one_batch.x,\n",
    "    one_batch.edge_index,\n",
    "    one_batch.edge_attr,\n",
    "    one_batch.batch\n",
    ")\n",
    "print(mu.shape, log_var.shape)"
   ]
  },
  {
   "cell_type": "code",
   "execution_count": 17,
   "id": "90448db4",
   "metadata": {},
   "outputs": [],
   "source": [
    "from models.propertypredictor import PropertyPredictor"
   ]
  },
  {
   "cell_type": "code",
   "execution_count": 18,
   "id": "44b2124d",
   "metadata": {},
   "outputs": [],
   "source": [
    "def reparameterize(mu, log_var):\n",
    "    std = torch.exp(0.5 * log_var)\n",
    "    eps = torch.randn_like(std)\n",
    "    return mu + eps * std"
   ]
  },
  {
   "cell_type": "code",
   "execution_count": 19,
   "id": "fc9a1b76",
   "metadata": {},
   "outputs": [],
   "source": [
    "PP = PropertyPredictor(latent_dim, num_properties=1).to(device)"
   ]
  },
  {
   "cell_type": "code",
   "execution_count": 20,
   "id": "d4a36834",
   "metadata": {},
   "outputs": [
    {
     "data": {
      "text/plain": [
       "tensor([[1.6938e+08],\n",
       "        [9.5779e+04],\n",
       "        [8.7629e+05],\n",
       "        [5.0267e+05]], device='mps:0', grad_fn=<LinearBackward0>)"
      ]
     },
     "execution_count": 20,
     "metadata": {},
     "output_type": "execute_result"
    }
   ],
   "source": [
    "PP(reparameterize(mu, log_var))"
   ]
  },
  {
   "cell_type": "code",
   "execution_count": null,
   "id": "acb160a5",
   "metadata": {},
   "outputs": [],
   "source": []
  }
 ],
 "metadata": {
  "kernelspec": {
   "display_name": "qvae",
   "language": "python",
   "name": "python3"
  },
  "language_info": {
   "codemirror_mode": {
    "name": "ipython",
    "version": 3
   },
   "file_extension": ".py",
   "mimetype": "text/x-python",
   "name": "python",
   "nbconvert_exporter": "python",
   "pygments_lexer": "ipython3",
   "version": "3.11.13"
  }
 },
 "nbformat": 4,
 "nbformat_minor": 5
}
