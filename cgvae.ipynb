{
 "cells": [
  {
   "cell_type": "code",
   "execution_count": 1,
   "id": "d8852c0c",
   "metadata": {},
   "outputs": [],
   "source": [
    "from dataset import QM9GraphDataset, create_data_loaders"
   ]
  },
  {
   "cell_type": "code",
   "execution_count": 2,
   "id": "66bef446",
   "metadata": {},
   "outputs": [
    {
     "name": "stderr",
     "output_type": "stream",
     "text": [
      "Processing...\n"
     ]
    },
    {
     "name": "stdout",
     "output_type": "stream",
     "text": [
      "Processing 2142 molecules...\n",
      "Successfully processed 2142 molecules, failed: 0\n"
     ]
    },
    {
     "name": "stderr",
     "output_type": "stream",
     "text": [
      "Done!\n"
     ]
    }
   ],
   "source": [
    "dataset = QM9GraphDataset(csv_path='qm9_bbbp.csv')"
   ]
  },
  {
   "cell_type": "code",
   "execution_count": 3,
   "id": "77be3343",
   "metadata": {},
   "outputs": [
    {
     "name": "stdout",
     "output_type": "stream",
     "text": [
      "Dataset splits — Train: 1713, Val: 214, Test: 215\n",
      "Batch x shape: torch.Size([66, 29])\n",
      "Batch edge_index shape: torch.Size([2, 136])\n",
      "Batch y shape: torch.Size([4])\n"
     ]
    }
   ],
   "source": [
    "train_loader, val_loader, test_loader = create_data_loaders(dataset, batch_size=4)\n",
    "for batch in train_loader:\n",
    "    print(\"Batch x shape:\", batch.x.shape)\n",
    "    print(\"Batch edge_index shape:\", batch.edge_index.shape)\n",
    "    print(\"Batch y shape:\", batch.y.shape)\n",
    "    break"
   ]
  },
  {
   "cell_type": "code",
   "execution_count": null,
   "id": "63e16319",
   "metadata": {},
   "outputs": [],
   "source": []
  }
 ],
 "metadata": {
  "kernelspec": {
   "display_name": "qvae",
   "language": "python",
   "name": "python3"
  },
  "language_info": {
   "codemirror_mode": {
    "name": "ipython",
    "version": 3
   },
   "file_extension": ".py",
   "mimetype": "text/x-python",
   "name": "python",
   "nbconvert_exporter": "python",
   "pygments_lexer": "ipython3",
   "version": "3.11.13"
  }
 },
 "nbformat": 4,
 "nbformat_minor": 5
}
