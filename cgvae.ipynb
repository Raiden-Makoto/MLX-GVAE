{
 "cells": [
  {
   "cell_type": "code",
   "execution_count": 1,
   "id": "b143ce2f",
   "metadata": {},
   "outputs": [],
   "source": [
    "import torch\n",
    "import torch.nn as nn\n",
    "import torch.nn.functional as F\n",
    "from torch.optim import Adam\n",
    "from torch.distributions import Normal, kl_divergence\n",
    "\n",
    "device = torch.device('mps' if torch.backends.mps.is_available() else 'cpu')"
   ]
  },
  {
   "cell_type": "markdown",
   "id": "fdc553b0",
   "metadata": {},
   "source": [
    "## QM9 Dataset Enhanced with BBBP"
   ]
  },
  {
   "cell_type": "code",
   "execution_count": 2,
   "id": "d8852c0c",
   "metadata": {},
   "outputs": [],
   "source": [
    "from data.dataset import QM9GraphDataset, create_data_loaders\n",
    "from models.graphencoder import GraphEncoder\n",
    "from models.propertypredictor import PropertyPredictor\n",
    "from models.graphdecoder import GraphDecoder"
   ]
  },
  {
   "cell_type": "code",
   "execution_count": 4,
   "id": "66bef446",
   "metadata": {},
   "outputs": [
    {
     "name": "stderr",
     "output_type": "stream",
     "text": [
      "Processing...\n"
     ]
    },
    {
     "name": "stdout",
     "output_type": "stream",
     "text": [
      "Processing 2142 molecules...\n",
      "Successfully processed 2142 molecules, failed: 0\n"
     ]
    },
    {
     "name": "stderr",
     "output_type": "stream",
     "text": [
      "Done!\n"
     ]
    }
   ],
   "source": [
    "dataset = QM9GraphDataset(csv_path='./data/qm9_bbbp.csv')"
   ]
  },
  {
   "cell_type": "code",
   "execution_count": 5,
   "id": "77be3343",
   "metadata": {},
   "outputs": [
    {
     "name": "stdout",
     "output_type": "stream",
     "text": [
      "Dataset splits — Train: 1713, Val: 214, Test: 215\n"
     ]
    }
   ],
   "source": [
    "train_loader, val_loader, test_loader = create_data_loaders(dataset, batch_size=4)"
   ]
  },
  {
   "cell_type": "markdown",
   "id": "2d53320a",
   "metadata": {},
   "source": [
    "## Multi-objective Graph Conditional Variational Autoencoder\n",
    "Combines:\n",
    "- GraphEncoder: molecular graphs → latent space\n",
    "- PropertyPredictor: latent space → property predictions  \n",
    "- GraphDecoder: latent space + target properties → molecular graphs"
   ]
  },
  {
   "cell_type": "code",
   "execution_count": null,
   "id": "acb160a5",
   "metadata": {},
   "outputs": [],
   "source": []
  },
  {
   "cell_type": "code",
   "execution_count": null,
   "id": "0fa65fc9",
   "metadata": {},
   "outputs": [],
   "source": []
  }
 ],
 "metadata": {
  "kernelspec": {
   "display_name": "qvae",
   "language": "python",
   "name": "python3"
  },
  "language_info": {
   "codemirror_mode": {
    "name": "ipython",
    "version": 3
   },
   "file_extension": ".py",
   "mimetype": "text/x-python",
   "name": "python",
   "nbconvert_exporter": "python",
   "pygments_lexer": "ipython3",
   "version": "3.11.13"
  }
 },
 "nbformat": 4,
 "nbformat_minor": 5
}
