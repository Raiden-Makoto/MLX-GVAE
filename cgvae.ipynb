{
 "cells": [
  {
   "cell_type": "markdown",
   "id": "18c8af16",
   "metadata": {},
   "source": [
    "### Multi-Conditional Graph Variational Autoencoder"
   ]
  },
  {
   "cell_type": "code",
   "execution_count": 1,
   "id": "b143ce2f",
   "metadata": {},
   "outputs": [],
   "source": [
    "import torch\n",
    "device = torch.device('mps' if torch.backends.mps.is_available() else 'cpu')"
   ]
  },
  {
   "cell_type": "code",
   "execution_count": 2,
   "id": "d8852c0c",
   "metadata": {},
   "outputs": [],
   "source": [
    "from data.dataset import QM9GraphDataset\n",
    "from utils.datautils import create_data_loaders\n",
    "from mgcvae import MGCVAE\n",
    "from trainer import MGCVAETrainer\n",
    "from utils.trainutils import load_from_checkpoint"
   ]
  },
  {
   "cell_type": "code",
   "execution_count": 3,
   "id": "66bef446",
   "metadata": {},
   "outputs": [
    {
     "name": "stderr",
     "output_type": "stream",
     "text": [
      "Processing...\n"
     ]
    },
    {
     "name": "stdout",
     "output_type": "stream",
     "text": [
      "Processing 2142 molecules...\n",
      "Successfully processed 2142 molecules, failed: 0\n"
     ]
    },
    {
     "name": "stderr",
     "output_type": "stream",
     "text": [
      "Done!\n"
     ]
    }
   ],
   "source": [
    "dataset = QM9GraphDataset(csv_path='./data/qm9_bbbp.csv')"
   ]
  },
  {
   "cell_type": "code",
   "execution_count": 4,
   "id": "77be3343",
   "metadata": {},
   "outputs": [
    {
     "name": "stdout",
     "output_type": "stream",
     "text": [
      "Dataset splits — Train: 1713, Val: 214, Test: 215\n"
     ]
    }
   ],
   "source": [
    "train_loader, val_loader, test_loader = create_data_loaders(dataset, batch_size=4)"
   ]
  },
  {
   "cell_type": "code",
   "execution_count": 5,
   "id": "6f9917ff",
   "metadata": {},
   "outputs": [
    {
     "name": "stdout",
     "output_type": "stream",
     "text": [
      "Model loaded from checkpoints/mgcvae/best_model.pth\n",
      "Epoch: 5, Best Val Loss: 0.8495\n",
      "\n",
      "Training stopped at epoch: 5\n",
      "Final validation loss: 0.8495\n"
     ]
    }
   ],
   "source": [
    "# Load the best model from training\n",
    "model, checkpoint = load_from_checkpoint('checkpoints/mgcvae/best_model.pth', device=device)\n",
    "loaded = True\n",
    "\n",
    "# Model is ready for inference!\n",
    "# You can also access training history:\n",
    "print(f\"\\nTraining stopped at epoch: {checkpoint['epoch']}\")\n",
    "print(f\"Final validation loss: {checkpoint['best_val_loss']:.4f}\")"
   ]
  },
  {
   "cell_type": "markdown",
   "id": "f997a644",
   "metadata": {},
   "source": [
    "### If we haven't Trained yet"
   ]
  },
  {
   "cell_type": "code",
   "execution_count": 6,
   "id": "4835a2c4",
   "metadata": {},
   "outputs": [],
   "source": [
    "if not loaded:\n",
    "    model_config = {\n",
    "        'node_dim': 29,\n",
    "        'edge_dim': 6,\n",
    "        'latent_dim': 32,\n",
    "        'hidden_dim': 64,\n",
    "        'num_properties': 1,\n",
    "        'num_layers': 3,\n",
    "        'heads': 4,\n",
    "        'max_nodes': 20,\n",
    "        'beta': 0.01,      # Start with low KL weight\n",
    "        'gamma': 1.0,      # Property prediction weight\n",
    "        'dropout': 0.1\n",
    "    }\n",
    "    model = MGCVAE(**model_config).to(device)"
   ]
  },
  {
   "cell_type": "code",
   "execution_count": 7,
   "id": "165f5c76",
   "metadata": {},
   "outputs": [],
   "source": [
    "trainer = MGCVAETrainer(\n",
    "    model=model,\n",
    "    train_loader=train_loader,\n",
    "    val_loader=val_loader,\n",
    "    test_loader=test_loader,\n",
    "    lr=1e-3,\n",
    "    device=device,\n",
    "    save_dir='checkpoints/mgcvae'\n",
    ")"
   ]
  },
  {
   "cell_type": "code",
   "execution_count": null,
   "id": "4fbc8107",
   "metadata": {},
   "outputs": [
    {
     "name": "stdout",
     "output_type": "stream",
     "text": [
      "Starting MGCVAE training from epoch 6 to 10\n",
      "Model parameters: 105,216\n",
      "Device: mps\n",
      "\n",
      "Epoch 6/10\n"
     ]
    },
    {
     "name": "stderr",
     "output_type": "stream",
     "text": [
      "Training:   0%|          | 0/429 [00:00<?, ?it/s]"
     ]
    }
   ],
   "source": [
    "train_metrics, val_metrics = trainer.train(num_epochs=5, start_epoch=checkpoint['epoch']+1)"
   ]
  },
  {
   "cell_type": "markdown",
   "id": "68e09010",
   "metadata": {},
   "source": [
    "### Metrics"
   ]
  },
  {
   "cell_type": "code",
   "execution_count": null,
   "id": "86b90394",
   "metadata": {},
   "outputs": [],
   "source": [
    "from utils.metrics import (\n",
    "    evaluate_property_prediction,\n",
    "    evaluate_reconstruction_and_kl,\n",
    "    evaluate_novelty_diversity,\n",
    "    evaluate_conditioning_latent\n",
    ")"
   ]
  },
  {
   "cell_type": "code",
   "execution_count": null,
   "id": "00b0138f",
   "metadata": {},
   "outputs": [],
   "source": [
    "from utils.inference import (\n",
    "    batch_logits_to_molecules,\n",
    "    evaluate_generation_quality\n",
    ")"
   ]
  },
  {
   "cell_type": "code",
   "execution_count": null,
   "id": "c8e42843",
   "metadata": {},
   "outputs": [
    {
     "name": "stderr",
     "output_type": "stream",
     "text": [
      "/Users/maxcui/Downloads/QVAE/utils/metrics.py:35: UserWarning: Using a target size (torch.Size([4])) that is different to the input size (torch.Size([4, 1])). This will likely lead to incorrect results due to broadcasting. Please ensure they have the same size.\n",
      "  mse = F.mse_loss(preds, targets, reduction='sum').item()\n",
      "/Users/maxcui/Downloads/QVAE/utils/metrics.py:35: UserWarning: Using a target size (torch.Size([2])) that is different to the input size (torch.Size([2, 1])). This will likely lead to incorrect results due to broadcasting. Please ensure they have the same size.\n",
      "  mse = F.mse_loss(preds, targets, reduction='sum').item()\n"
     ]
    },
    {
     "name": "stdout",
     "output_type": "stream",
     "text": [
      "Property Prediction MSE: 0.3804\n",
      "Avg Reconstruction Loss: 0.7515\n",
      "Avg KL Divergence: 2.7008\n"
     ]
    }
   ],
   "source": [
    "_ = evaluate_property_prediction(model, val_loader, device)\n",
    "_ = evaluate_reconstruction_and_kl(model, val_loader, device)"
   ]
  },
  {
   "cell_type": "code",
   "execution_count": null,
   "id": "b8932752",
   "metadata": {},
   "outputs": [],
   "source": []
  }
 ],
 "metadata": {
  "kernelspec": {
   "display_name": "qvae",
   "language": "python",
   "name": "python3"
  },
  "language_info": {
   "codemirror_mode": {
    "name": "ipython",
    "version": 3
   },
   "file_extension": ".py",
   "mimetype": "text/x-python",
   "name": "python",
   "nbconvert_exporter": "python",
   "pygments_lexer": "ipython3",
   "version": "3.11.13"
  }
 },
 "nbformat": 4,
 "nbformat_minor": 5
}
