{
 "cells": [
  {
   "cell_type": "markdown",
   "id": "f557cdbf",
   "metadata": {},
   "source": [
    "# Message-Passing Neural Net for Blood-Brain Barrier Permeability Prediction"
   ]
  },
  {
   "cell_type": "code",
   "execution_count": 1,
   "id": "44c479a6",
   "metadata": {},
   "outputs": [],
   "source": [
    "import torch\n",
    "device = torch.device(\"mps\" if torch.backends.mps.is_available() else \"cpu\")"
   ]
  },
  {
   "cell_type": "code",
   "execution_count": 2,
   "id": "298678a3",
   "metadata": {},
   "outputs": [],
   "source": [
    "from rdkit import Chem\n",
    "from rdkit.Chem import AllChem"
   ]
  },
  {
   "cell_type": "code",
   "execution_count": 4,
   "id": "7af3f6e3",
   "metadata": {},
   "outputs": [],
   "source": [
    "import pandas as pd\n",
    "from torch_geometric.data import Data, InMemoryDataset"
   ]
  },
  {
   "cell_type": "markdown",
   "id": "b633bcef",
   "metadata": {},
   "source": [
    "## BBBP Dataset"
   ]
  },
  {
   "cell_type": "code",
   "execution_count": 5,
   "id": "7cf0f8ab",
   "metadata": {},
   "outputs": [
    {
     "data": {
      "text/plain": [
       "'BBBP.csv'"
      ]
     },
     "execution_count": 5,
     "metadata": {},
     "output_type": "execute_result"
    }
   ],
   "source": [
    "import wget\n",
    "\n",
    "url = \"https://deepchemdata.s3-us-west-1.amazonaws.com/datasets/BBBP.csv\"\n",
    "wget.download(url, \"BBBP.csv\")"
   ]
  },
  {
   "cell_type": "code",
   "execution_count": 6,
   "id": "d5694849",
   "metadata": {},
   "outputs": [
    {
     "data": {
      "text/html": [
       "<div>\n",
       "<style scoped>\n",
       "    .dataframe tbody tr th:only-of-type {\n",
       "        vertical-align: middle;\n",
       "    }\n",
       "\n",
       "    .dataframe tbody tr th {\n",
       "        vertical-align: top;\n",
       "    }\n",
       "\n",
       "    .dataframe thead th {\n",
       "        text-align: right;\n",
       "    }\n",
       "</style>\n",
       "<table border=\"1\" class=\"dataframe\">\n",
       "  <thead>\n",
       "    <tr style=\"text-align: right;\">\n",
       "      <th></th>\n",
       "      <th>num</th>\n",
       "      <th>name</th>\n",
       "      <th>p_np</th>\n",
       "      <th>smiles</th>\n",
       "    </tr>\n",
       "  </thead>\n",
       "  <tbody>\n",
       "    <tr>\n",
       "      <th>0</th>\n",
       "      <td>1</td>\n",
       "      <td>Propanolol</td>\n",
       "      <td>1</td>\n",
       "      <td>[Cl].CC(C)NCC(O)COc1cccc2ccccc12</td>\n",
       "    </tr>\n",
       "    <tr>\n",
       "      <th>1</th>\n",
       "      <td>2</td>\n",
       "      <td>Terbutylchlorambucil</td>\n",
       "      <td>1</td>\n",
       "      <td>C(=O)(OC(C)(C)C)CCCc1ccc(cc1)N(CCCl)CCCl</td>\n",
       "    </tr>\n",
       "    <tr>\n",
       "      <th>2</th>\n",
       "      <td>3</td>\n",
       "      <td>40730</td>\n",
       "      <td>1</td>\n",
       "      <td>c12c3c(N4CCN(C)CC4)c(F)cc1c(c(C(O)=O)cn2C(C)CO...</td>\n",
       "    </tr>\n",
       "    <tr>\n",
       "      <th>3</th>\n",
       "      <td>4</td>\n",
       "      <td>24</td>\n",
       "      <td>1</td>\n",
       "      <td>C1CCN(CC1)Cc1cccc(c1)OCCCNC(=O)C</td>\n",
       "    </tr>\n",
       "    <tr>\n",
       "      <th>4</th>\n",
       "      <td>5</td>\n",
       "      <td>cloxacillin</td>\n",
       "      <td>1</td>\n",
       "      <td>Cc1onc(c2ccccc2Cl)c1C(=O)N[C@H]3[C@H]4SC(C)(C)...</td>\n",
       "    </tr>\n",
       "  </tbody>\n",
       "</table>\n",
       "</div>"
      ],
      "text/plain": [
       "   num                  name  p_np  \\\n",
       "0    1            Propanolol     1   \n",
       "1    2  Terbutylchlorambucil     1   \n",
       "2    3                 40730     1   \n",
       "3    4                    24     1   \n",
       "4    5           cloxacillin     1   \n",
       "\n",
       "                                              smiles  \n",
       "0                   [Cl].CC(C)NCC(O)COc1cccc2ccccc12  \n",
       "1           C(=O)(OC(C)(C)C)CCCc1ccc(cc1)N(CCCl)CCCl  \n",
       "2  c12c3c(N4CCN(C)CC4)c(F)cc1c(c(C(O)=O)cn2C(C)CO...  \n",
       "3                   C1CCN(CC1)Cc1cccc(c1)OCCCNC(=O)C  \n",
       "4  Cc1onc(c2ccccc2Cl)c1C(=O)N[C@H]3[C@H]4SC(C)(C)...  "
      ]
     },
     "execution_count": 6,
     "metadata": {},
     "output_type": "execute_result"
    }
   ],
   "source": [
    "df = pd.read_csv(\"BBBP.csv\")\n",
    "df.head()"
   ]
  },
  {
   "cell_type": "code",
   "execution_count": 9,
   "id": "de6c0ff7",
   "metadata": {},
   "outputs": [],
   "source": [
    "class BBBPDataset(InMemoryDataset):\n",
    "    def __init__(self, csv_path, transform=None):\n",
    "        super().__init__(root=None, transform=transform, pre_transform=None)\n",
    "        df = pd.read_csv(csv_path, usecols=[\"smiles\", \"p_np\"])\n",
    "        data_list = []\n",
    "        skipped = 0\n",
    "        for idx, row in df.iterrows():\n",
    "            try:\n",
    "                mol = Chem.MolFromSmiles(row[\"smiles\"])\n",
    "                if mol is None:\n",
    "                    skipped += 1\n",
    "                    continue\n",
    "                mol = Chem.AddHs(mol)\n",
    "                result = AllChem.EmbedMolecule(mol, randomSeed=67)\n",
    "                if result == -1:  # Embedding failed\n",
    "                    skipped += 1\n",
    "                    continue\n",
    "                atom_features = []\n",
    "                for atom in mol.GetAtoms():\n",
    "                    element = atom.GetSymbol()\n",
    "                    degree = atom.GetDegree()\n",
    "                    valence = atom.GetTotalValence()\n",
    "                    numH = atom.GetTotalNumHs()\n",
    "                    feat = [\n",
    "                        float(element == symbol) for symbol in [\"C\",\"N\",\"O\",\"F\",\"P\",\"S\",\"Cl\",\"Br\",\"I\"]\n",
    "                    ] + [degree, valence, numH]\n",
    "                    atom_features.append(feat)\n",
    "                x = torch.tensor(atom_features, dtype=torch.float)\n",
    "                edge_index, edge_attr = [], []\n",
    "                for bond in mol.GetBonds():\n",
    "                    i, j = bond.GetBeginAtomIdx(), bond.GetEndAtomIdx()\n",
    "                    bt = bond.GetBondType()\n",
    "                    attr = [\n",
    "                        float(bt == Chem.rdchem.BondType.SINGLE),\n",
    "                        float(bt == Chem.rdchem.BondType.DOUBLE),\n",
    "                        float(bt == Chem.rdchem.BondType.TRIPLE),\n",
    "                        float(bond.GetIsConjugated())\n",
    "                    ]\n",
    "                    edge_index += [[i,j],[j,i]]\n",
    "                    edge_attr += [attr, attr]\n",
    "                edge_index = torch.tensor(edge_index, dtype=torch.long).t().contiguous()\n",
    "                edge_attr  = torch.tensor(edge_attr,  dtype=torch.float)\n",
    "                y = torch.tensor(row[\"p_np\"], dtype=torch.float)\n",
    "                data_list.append(Data(x=x, edge_index=edge_index, edge_attr=edge_attr, y=y))\n",
    "            except Exception as e:\n",
    "                skipped += 1\n",
    "                continue\n",
    "        print(f\"Successfully processed {len(data_list)} molecules, skipped {skipped}\")\n",
    "        self.data, self.slices = self.collate(data_list)\n",
    "    \n",
    "    def len(self):\n",
    "        return len(self.data.y)\n",
    "    \n",
    "    def get(self, idx):\n",
    "        data = Data(\n",
    "            x=self.data.x[self.slices['x'][idx]:self.slices['x'][idx+1]],\n",
    "            edge_index=self.data.edge_index[:, self.slices['edge_index'][idx]:self.slices['edge_index'][idx+1]],\n",
    "            edge_attr=self.data.edge_attr[self.slices['edge_attr'][idx]:self.slices['edge_attr'][idx+1]],\n",
    "            y=self.data.y[idx]\n",
    "        )\n",
    "        if self.transform is not None:\n",
    "            data = self.transform(data)\n",
    "        return data"
   ]
  },
  {
   "cell_type": "code",
   "execution_count": null,
   "id": "5c614ff1",
   "metadata": {},
   "outputs": [],
   "source": [
    "bbbp = BBBPDataset(\"BBBP.csv\")"
   ]
  },
  {
   "cell_type": "markdown",
   "id": "3b729c56",
   "metadata": {},
   "source": [
    "## MPNN EdgeNetwork"
   ]
  },
  {
   "cell_type": "code",
   "execution_count": 12,
   "id": "deed636d",
   "metadata": {},
   "outputs": [],
   "source": [
    "import torch.nn as nn\n",
    "from torch_geometric.nn import MessagePassing, global_mean_pool"
   ]
  },
  {
   "cell_type": "code",
   "execution_count": 13,
   "id": "9c846197",
   "metadata": {},
   "outputs": [],
   "source": [
    "class EdgeNetwork(MessagePassing):\n",
    "    def __init__(self, in_channels, out_channels):\n",
    "        super().__init__(aggr=\"add\")\n",
    "        self.lin1 = nn.Linear(in_channels, in_channels * out_channels)\n",
    "        self.out_channels = out_channels\n",
    "\n",
    "    def forward(self, x, edge_index, edge_attr):\n",
    "        weight = self.lin1(edge_attr)\n",
    "        weight = weight.view(-1, x.size(1), self.out_channels)\n",
    "        return self.propagate(edge_index, x=x, weight=weight)\n",
    "\n",
    "    def message(self, x_j, weight):\n",
    "        return (weight @ x_j.unsqueeze(-1)).squeeze(-1)"
   ]
  },
  {
   "cell_type": "code",
   "execution_count": 14,
   "id": "a85c13fc",
   "metadata": {},
   "outputs": [],
   "source": [
    "class MPNN(nn.Module):\n",
    "    def __init__(\n",
    "        self,\n",
    "        node_dim,\n",
    "        edge_dim,\n",
    "        message_dim: int=64,\n",
    "        steps: int=4,\n",
    "        hidden_dim: int=128,\n",
    "    ):\n",
    "        super(MPNN, self).__init__()\n",
    "        self.steps = steps\n",
    "        self.edge_network = EdgeNetwork(edge_dim, message_dim)\n",
    "        self.gru = nn.GRUCell(message_dim, message_dim)\n",
    "        self.lin1 = nn.Linear(node_dim, message_dim)\n",
    "        self.readout = nn.Sequential(\n",
    "            nn.Linear(message_dim, hidden_dim),\n",
    "            nn.ReLU(),\n",
    "            nn.Linear(hidden_dim, 1),\n",
    "        )\n",
    "\n",
    "    def forward(self, data):\n",
    "        x, edge_index, edge_attr, batch = data.x, data.edge_index, data.edge_attr, data.batch\n",
    "        h = self.lin1(x)\n",
    "        for _ in range(self.steps):\n",
    "            m = self.edge_network(x, edge_index, edge_attr)\n",
    "            h = self.gru(m, h)\n",
    "        hg = global_mean_pool(h, batch)\n",
    "        return torch.sigmoid(self.readout(hg)).view(-1)"
   ]
  },
  {
   "cell_type": "markdown",
   "id": "5af86715",
   "metadata": {},
   "source": [
    "## Training"
   ]
  },
  {
   "cell_type": "code",
   "execution_count": null,
   "id": "aed79f44",
   "metadata": {},
   "outputs": [],
   "source": []
  }
 ],
 "metadata": {
  "kernelspec": {
   "display_name": "qvae",
   "language": "python",
   "name": "python3"
  },
  "language_info": {
   "codemirror_mode": {
    "name": "ipython",
    "version": 3
   },
   "file_extension": ".py",
   "mimetype": "text/x-python",
   "name": "python",
   "nbconvert_exporter": "python",
   "pygments_lexer": "ipython3",
   "version": "3.11.13"
  }
 },
 "nbformat": 4,
 "nbformat_minor": 5
}
